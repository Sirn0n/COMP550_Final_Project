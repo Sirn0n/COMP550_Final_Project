{
  "nbformat": 4,
  "nbformat_minor": 0,
  "metadata": {
    "colab": {
      "provenance": [],
      "machine_shape": "hm",
      "gpuType": "T4"
    },
    "kernelspec": {
      "name": "python3",
      "display_name": "Python 3"
    },
    "language_info": {
      "name": "python"
    },
    "accelerator": "GPU",
    "widgets": {
      "application/vnd.jupyter.widget-state+json": {
        "709f6517856a497a980ac5f95bbfc7b5": {
          "model_module": "@jupyter-widgets/controls",
          "model_name": "HBoxModel",
          "model_module_version": "1.5.0",
          "state": {
            "_dom_classes": [],
            "_model_module": "@jupyter-widgets/controls",
            "_model_module_version": "1.5.0",
            "_model_name": "HBoxModel",
            "_view_count": null,
            "_view_module": "@jupyter-widgets/controls",
            "_view_module_version": "1.5.0",
            "_view_name": "HBoxView",
            "box_style": "",
            "children": [
              "IPY_MODEL_ae34bd6f2cf64a3da77089aed1427757",
              "IPY_MODEL_cd195aca416640edb1313708005e125d",
              "IPY_MODEL_fc3895caefff4ab596b5a1c2fdf19e14"
            ],
            "layout": "IPY_MODEL_df16427c2c974f3da2d46e5453194a36"
          }
        },
        "ae34bd6f2cf64a3da77089aed1427757": {
          "model_module": "@jupyter-widgets/controls",
          "model_name": "HTMLModel",
          "model_module_version": "1.5.0",
          "state": {
            "_dom_classes": [],
            "_model_module": "@jupyter-widgets/controls",
            "_model_module_version": "1.5.0",
            "_model_name": "HTMLModel",
            "_view_count": null,
            "_view_module": "@jupyter-widgets/controls",
            "_view_module_version": "1.5.0",
            "_view_name": "HTMLView",
            "description": "",
            "description_tooltip": null,
            "layout": "IPY_MODEL_3c25566be85540529e85dfb4a10a27fd",
            "placeholder": "​",
            "style": "IPY_MODEL_2ca7ca8e5d1b4b0fba425368a0063ae5",
            "value": "tokenizer_config.json: 100%"
          }
        },
        "cd195aca416640edb1313708005e125d": {
          "model_module": "@jupyter-widgets/controls",
          "model_name": "FloatProgressModel",
          "model_module_version": "1.5.0",
          "state": {
            "_dom_classes": [],
            "_model_module": "@jupyter-widgets/controls",
            "_model_module_version": "1.5.0",
            "_model_name": "FloatProgressModel",
            "_view_count": null,
            "_view_module": "@jupyter-widgets/controls",
            "_view_module_version": "1.5.0",
            "_view_name": "ProgressView",
            "bar_style": "success",
            "description": "",
            "description_tooltip": null,
            "layout": "IPY_MODEL_80e5ea7101e54fe6846e1ac0cffb5f28",
            "max": 49,
            "min": 0,
            "orientation": "horizontal",
            "style": "IPY_MODEL_31bf5712c8e146a5aca074aa05362c21",
            "value": 49
          }
        },
        "fc3895caefff4ab596b5a1c2fdf19e14": {
          "model_module": "@jupyter-widgets/controls",
          "model_name": "HTMLModel",
          "model_module_version": "1.5.0",
          "state": {
            "_dom_classes": [],
            "_model_module": "@jupyter-widgets/controls",
            "_model_module_version": "1.5.0",
            "_model_name": "HTMLModel",
            "_view_count": null,
            "_view_module": "@jupyter-widgets/controls",
            "_view_module_version": "1.5.0",
            "_view_name": "HTMLView",
            "description": "",
            "description_tooltip": null,
            "layout": "IPY_MODEL_e380e5a1f3af4b068f150f77f06cf9e7",
            "placeholder": "​",
            "style": "IPY_MODEL_46a6bca21a5d451c9bd4128a29893896",
            "value": " 49.0/49.0 [00:00&lt;00:00, 4.38kB/s]"
          }
        },
        "df16427c2c974f3da2d46e5453194a36": {
          "model_module": "@jupyter-widgets/base",
          "model_name": "LayoutModel",
          "model_module_version": "1.2.0",
          "state": {
            "_model_module": "@jupyter-widgets/base",
            "_model_module_version": "1.2.0",
            "_model_name": "LayoutModel",
            "_view_count": null,
            "_view_module": "@jupyter-widgets/base",
            "_view_module_version": "1.2.0",
            "_view_name": "LayoutView",
            "align_content": null,
            "align_items": null,
            "align_self": null,
            "border": null,
            "bottom": null,
            "display": null,
            "flex": null,
            "flex_flow": null,
            "grid_area": null,
            "grid_auto_columns": null,
            "grid_auto_flow": null,
            "grid_auto_rows": null,
            "grid_column": null,
            "grid_gap": null,
            "grid_row": null,
            "grid_template_areas": null,
            "grid_template_columns": null,
            "grid_template_rows": null,
            "height": null,
            "justify_content": null,
            "justify_items": null,
            "left": null,
            "margin": null,
            "max_height": null,
            "max_width": null,
            "min_height": null,
            "min_width": null,
            "object_fit": null,
            "object_position": null,
            "order": null,
            "overflow": null,
            "overflow_x": null,
            "overflow_y": null,
            "padding": null,
            "right": null,
            "top": null,
            "visibility": null,
            "width": null
          }
        },
        "3c25566be85540529e85dfb4a10a27fd": {
          "model_module": "@jupyter-widgets/base",
          "model_name": "LayoutModel",
          "model_module_version": "1.2.0",
          "state": {
            "_model_module": "@jupyter-widgets/base",
            "_model_module_version": "1.2.0",
            "_model_name": "LayoutModel",
            "_view_count": null,
            "_view_module": "@jupyter-widgets/base",
            "_view_module_version": "1.2.0",
            "_view_name": "LayoutView",
            "align_content": null,
            "align_items": null,
            "align_self": null,
            "border": null,
            "bottom": null,
            "display": null,
            "flex": null,
            "flex_flow": null,
            "grid_area": null,
            "grid_auto_columns": null,
            "grid_auto_flow": null,
            "grid_auto_rows": null,
            "grid_column": null,
            "grid_gap": null,
            "grid_row": null,
            "grid_template_areas": null,
            "grid_template_columns": null,
            "grid_template_rows": null,
            "height": null,
            "justify_content": null,
            "justify_items": null,
            "left": null,
            "margin": null,
            "max_height": null,
            "max_width": null,
            "min_height": null,
            "min_width": null,
            "object_fit": null,
            "object_position": null,
            "order": null,
            "overflow": null,
            "overflow_x": null,
            "overflow_y": null,
            "padding": null,
            "right": null,
            "top": null,
            "visibility": null,
            "width": null
          }
        },
        "2ca7ca8e5d1b4b0fba425368a0063ae5": {
          "model_module": "@jupyter-widgets/controls",
          "model_name": "DescriptionStyleModel",
          "model_module_version": "1.5.0",
          "state": {
            "_model_module": "@jupyter-widgets/controls",
            "_model_module_version": "1.5.0",
            "_model_name": "DescriptionStyleModel",
            "_view_count": null,
            "_view_module": "@jupyter-widgets/base",
            "_view_module_version": "1.2.0",
            "_view_name": "StyleView",
            "description_width": ""
          }
        },
        "80e5ea7101e54fe6846e1ac0cffb5f28": {
          "model_module": "@jupyter-widgets/base",
          "model_name": "LayoutModel",
          "model_module_version": "1.2.0",
          "state": {
            "_model_module": "@jupyter-widgets/base",
            "_model_module_version": "1.2.0",
            "_model_name": "LayoutModel",
            "_view_count": null,
            "_view_module": "@jupyter-widgets/base",
            "_view_module_version": "1.2.0",
            "_view_name": "LayoutView",
            "align_content": null,
            "align_items": null,
            "align_self": null,
            "border": null,
            "bottom": null,
            "display": null,
            "flex": null,
            "flex_flow": null,
            "grid_area": null,
            "grid_auto_columns": null,
            "grid_auto_flow": null,
            "grid_auto_rows": null,
            "grid_column": null,
            "grid_gap": null,
            "grid_row": null,
            "grid_template_areas": null,
            "grid_template_columns": null,
            "grid_template_rows": null,
            "height": null,
            "justify_content": null,
            "justify_items": null,
            "left": null,
            "margin": null,
            "max_height": null,
            "max_width": null,
            "min_height": null,
            "min_width": null,
            "object_fit": null,
            "object_position": null,
            "order": null,
            "overflow": null,
            "overflow_x": null,
            "overflow_y": null,
            "padding": null,
            "right": null,
            "top": null,
            "visibility": null,
            "width": null
          }
        },
        "31bf5712c8e146a5aca074aa05362c21": {
          "model_module": "@jupyter-widgets/controls",
          "model_name": "ProgressStyleModel",
          "model_module_version": "1.5.0",
          "state": {
            "_model_module": "@jupyter-widgets/controls",
            "_model_module_version": "1.5.0",
            "_model_name": "ProgressStyleModel",
            "_view_count": null,
            "_view_module": "@jupyter-widgets/base",
            "_view_module_version": "1.2.0",
            "_view_name": "StyleView",
            "bar_color": null,
            "description_width": ""
          }
        },
        "e380e5a1f3af4b068f150f77f06cf9e7": {
          "model_module": "@jupyter-widgets/base",
          "model_name": "LayoutModel",
          "model_module_version": "1.2.0",
          "state": {
            "_model_module": "@jupyter-widgets/base",
            "_model_module_version": "1.2.0",
            "_model_name": "LayoutModel",
            "_view_count": null,
            "_view_module": "@jupyter-widgets/base",
            "_view_module_version": "1.2.0",
            "_view_name": "LayoutView",
            "align_content": null,
            "align_items": null,
            "align_self": null,
            "border": null,
            "bottom": null,
            "display": null,
            "flex": null,
            "flex_flow": null,
            "grid_area": null,
            "grid_auto_columns": null,
            "grid_auto_flow": null,
            "grid_auto_rows": null,
            "grid_column": null,
            "grid_gap": null,
            "grid_row": null,
            "grid_template_areas": null,
            "grid_template_columns": null,
            "grid_template_rows": null,
            "height": null,
            "justify_content": null,
            "justify_items": null,
            "left": null,
            "margin": null,
            "max_height": null,
            "max_width": null,
            "min_height": null,
            "min_width": null,
            "object_fit": null,
            "object_position": null,
            "order": null,
            "overflow": null,
            "overflow_x": null,
            "overflow_y": null,
            "padding": null,
            "right": null,
            "top": null,
            "visibility": null,
            "width": null
          }
        },
        "46a6bca21a5d451c9bd4128a29893896": {
          "model_module": "@jupyter-widgets/controls",
          "model_name": "DescriptionStyleModel",
          "model_module_version": "1.5.0",
          "state": {
            "_model_module": "@jupyter-widgets/controls",
            "_model_module_version": "1.5.0",
            "_model_name": "DescriptionStyleModel",
            "_view_count": null,
            "_view_module": "@jupyter-widgets/base",
            "_view_module_version": "1.2.0",
            "_view_name": "StyleView",
            "description_width": ""
          }
        },
        "ce5b72cf887a408091d0c263bffca7c5": {
          "model_module": "@jupyter-widgets/controls",
          "model_name": "HBoxModel",
          "model_module_version": "1.5.0",
          "state": {
            "_dom_classes": [],
            "_model_module": "@jupyter-widgets/controls",
            "_model_module_version": "1.5.0",
            "_model_name": "HBoxModel",
            "_view_count": null,
            "_view_module": "@jupyter-widgets/controls",
            "_view_module_version": "1.5.0",
            "_view_name": "HBoxView",
            "box_style": "",
            "children": [
              "IPY_MODEL_a0fb5ecaf046491fbd8d9644abc16a69",
              "IPY_MODEL_73a1240b2ed642a5a40215794ebe17e5",
              "IPY_MODEL_6655fb687b1646f2abdbefb95ee721a3"
            ],
            "layout": "IPY_MODEL_04f4c8aa00364ba9badbe77a84e2cad9"
          }
        },
        "a0fb5ecaf046491fbd8d9644abc16a69": {
          "model_module": "@jupyter-widgets/controls",
          "model_name": "HTMLModel",
          "model_module_version": "1.5.0",
          "state": {
            "_dom_classes": [],
            "_model_module": "@jupyter-widgets/controls",
            "_model_module_version": "1.5.0",
            "_model_name": "HTMLModel",
            "_view_count": null,
            "_view_module": "@jupyter-widgets/controls",
            "_view_module_version": "1.5.0",
            "_view_name": "HTMLView",
            "description": "",
            "description_tooltip": null,
            "layout": "IPY_MODEL_77ea505d7e9d4caeada50cebd937fc7a",
            "placeholder": "​",
            "style": "IPY_MODEL_63bfd88351324ead836d694f7767400c",
            "value": "vocab.txt: 100%"
          }
        },
        "73a1240b2ed642a5a40215794ebe17e5": {
          "model_module": "@jupyter-widgets/controls",
          "model_name": "FloatProgressModel",
          "model_module_version": "1.5.0",
          "state": {
            "_dom_classes": [],
            "_model_module": "@jupyter-widgets/controls",
            "_model_module_version": "1.5.0",
            "_model_name": "FloatProgressModel",
            "_view_count": null,
            "_view_module": "@jupyter-widgets/controls",
            "_view_module_version": "1.5.0",
            "_view_name": "ProgressView",
            "bar_style": "success",
            "description": "",
            "description_tooltip": null,
            "layout": "IPY_MODEL_30b5fbe77e1f42caaf12f4c9a46929c4",
            "max": 213450,
            "min": 0,
            "orientation": "horizontal",
            "style": "IPY_MODEL_319887dcc09948ee8e3639582d4a374b",
            "value": 213450
          }
        },
        "6655fb687b1646f2abdbefb95ee721a3": {
          "model_module": "@jupyter-widgets/controls",
          "model_name": "HTMLModel",
          "model_module_version": "1.5.0",
          "state": {
            "_dom_classes": [],
            "_model_module": "@jupyter-widgets/controls",
            "_model_module_version": "1.5.0",
            "_model_name": "HTMLModel",
            "_view_count": null,
            "_view_module": "@jupyter-widgets/controls",
            "_view_module_version": "1.5.0",
            "_view_name": "HTMLView",
            "description": "",
            "description_tooltip": null,
            "layout": "IPY_MODEL_808b75cdf8064fc5938bae23e2945729",
            "placeholder": "​",
            "style": "IPY_MODEL_5f563d4ef3714010b3f7d51ebaf928c0",
            "value": " 213k/213k [00:00&lt;00:00, 1.32MB/s]"
          }
        },
        "04f4c8aa00364ba9badbe77a84e2cad9": {
          "model_module": "@jupyter-widgets/base",
          "model_name": "LayoutModel",
          "model_module_version": "1.2.0",
          "state": {
            "_model_module": "@jupyter-widgets/base",
            "_model_module_version": "1.2.0",
            "_model_name": "LayoutModel",
            "_view_count": null,
            "_view_module": "@jupyter-widgets/base",
            "_view_module_version": "1.2.0",
            "_view_name": "LayoutView",
            "align_content": null,
            "align_items": null,
            "align_self": null,
            "border": null,
            "bottom": null,
            "display": null,
            "flex": null,
            "flex_flow": null,
            "grid_area": null,
            "grid_auto_columns": null,
            "grid_auto_flow": null,
            "grid_auto_rows": null,
            "grid_column": null,
            "grid_gap": null,
            "grid_row": null,
            "grid_template_areas": null,
            "grid_template_columns": null,
            "grid_template_rows": null,
            "height": null,
            "justify_content": null,
            "justify_items": null,
            "left": null,
            "margin": null,
            "max_height": null,
            "max_width": null,
            "min_height": null,
            "min_width": null,
            "object_fit": null,
            "object_position": null,
            "order": null,
            "overflow": null,
            "overflow_x": null,
            "overflow_y": null,
            "padding": null,
            "right": null,
            "top": null,
            "visibility": null,
            "width": null
          }
        },
        "77ea505d7e9d4caeada50cebd937fc7a": {
          "model_module": "@jupyter-widgets/base",
          "model_name": "LayoutModel",
          "model_module_version": "1.2.0",
          "state": {
            "_model_module": "@jupyter-widgets/base",
            "_model_module_version": "1.2.0",
            "_model_name": "LayoutModel",
            "_view_count": null,
            "_view_module": "@jupyter-widgets/base",
            "_view_module_version": "1.2.0",
            "_view_name": "LayoutView",
            "align_content": null,
            "align_items": null,
            "align_self": null,
            "border": null,
            "bottom": null,
            "display": null,
            "flex": null,
            "flex_flow": null,
            "grid_area": null,
            "grid_auto_columns": null,
            "grid_auto_flow": null,
            "grid_auto_rows": null,
            "grid_column": null,
            "grid_gap": null,
            "grid_row": null,
            "grid_template_areas": null,
            "grid_template_columns": null,
            "grid_template_rows": null,
            "height": null,
            "justify_content": null,
            "justify_items": null,
            "left": null,
            "margin": null,
            "max_height": null,
            "max_width": null,
            "min_height": null,
            "min_width": null,
            "object_fit": null,
            "object_position": null,
            "order": null,
            "overflow": null,
            "overflow_x": null,
            "overflow_y": null,
            "padding": null,
            "right": null,
            "top": null,
            "visibility": null,
            "width": null
          }
        },
        "63bfd88351324ead836d694f7767400c": {
          "model_module": "@jupyter-widgets/controls",
          "model_name": "DescriptionStyleModel",
          "model_module_version": "1.5.0",
          "state": {
            "_model_module": "@jupyter-widgets/controls",
            "_model_module_version": "1.5.0",
            "_model_name": "DescriptionStyleModel",
            "_view_count": null,
            "_view_module": "@jupyter-widgets/base",
            "_view_module_version": "1.2.0",
            "_view_name": "StyleView",
            "description_width": ""
          }
        },
        "30b5fbe77e1f42caaf12f4c9a46929c4": {
          "model_module": "@jupyter-widgets/base",
          "model_name": "LayoutModel",
          "model_module_version": "1.2.0",
          "state": {
            "_model_module": "@jupyter-widgets/base",
            "_model_module_version": "1.2.0",
            "_model_name": "LayoutModel",
            "_view_count": null,
            "_view_module": "@jupyter-widgets/base",
            "_view_module_version": "1.2.0",
            "_view_name": "LayoutView",
            "align_content": null,
            "align_items": null,
            "align_self": null,
            "border": null,
            "bottom": null,
            "display": null,
            "flex": null,
            "flex_flow": null,
            "grid_area": null,
            "grid_auto_columns": null,
            "grid_auto_flow": null,
            "grid_auto_rows": null,
            "grid_column": null,
            "grid_gap": null,
            "grid_row": null,
            "grid_template_areas": null,
            "grid_template_columns": null,
            "grid_template_rows": null,
            "height": null,
            "justify_content": null,
            "justify_items": null,
            "left": null,
            "margin": null,
            "max_height": null,
            "max_width": null,
            "min_height": null,
            "min_width": null,
            "object_fit": null,
            "object_position": null,
            "order": null,
            "overflow": null,
            "overflow_x": null,
            "overflow_y": null,
            "padding": null,
            "right": null,
            "top": null,
            "visibility": null,
            "width": null
          }
        },
        "319887dcc09948ee8e3639582d4a374b": {
          "model_module": "@jupyter-widgets/controls",
          "model_name": "ProgressStyleModel",
          "model_module_version": "1.5.0",
          "state": {
            "_model_module": "@jupyter-widgets/controls",
            "_model_module_version": "1.5.0",
            "_model_name": "ProgressStyleModel",
            "_view_count": null,
            "_view_module": "@jupyter-widgets/base",
            "_view_module_version": "1.2.0",
            "_view_name": "StyleView",
            "bar_color": null,
            "description_width": ""
          }
        },
        "808b75cdf8064fc5938bae23e2945729": {
          "model_module": "@jupyter-widgets/base",
          "model_name": "LayoutModel",
          "model_module_version": "1.2.0",
          "state": {
            "_model_module": "@jupyter-widgets/base",
            "_model_module_version": "1.2.0",
            "_model_name": "LayoutModel",
            "_view_count": null,
            "_view_module": "@jupyter-widgets/base",
            "_view_module_version": "1.2.0",
            "_view_name": "LayoutView",
            "align_content": null,
            "align_items": null,
            "align_self": null,
            "border": null,
            "bottom": null,
            "display": null,
            "flex": null,
            "flex_flow": null,
            "grid_area": null,
            "grid_auto_columns": null,
            "grid_auto_flow": null,
            "grid_auto_rows": null,
            "grid_column": null,
            "grid_gap": null,
            "grid_row": null,
            "grid_template_areas": null,
            "grid_template_columns": null,
            "grid_template_rows": null,
            "height": null,
            "justify_content": null,
            "justify_items": null,
            "left": null,
            "margin": null,
            "max_height": null,
            "max_width": null,
            "min_height": null,
            "min_width": null,
            "object_fit": null,
            "object_position": null,
            "order": null,
            "overflow": null,
            "overflow_x": null,
            "overflow_y": null,
            "padding": null,
            "right": null,
            "top": null,
            "visibility": null,
            "width": null
          }
        },
        "5f563d4ef3714010b3f7d51ebaf928c0": {
          "model_module": "@jupyter-widgets/controls",
          "model_name": "DescriptionStyleModel",
          "model_module_version": "1.5.0",
          "state": {
            "_model_module": "@jupyter-widgets/controls",
            "_model_module_version": "1.5.0",
            "_model_name": "DescriptionStyleModel",
            "_view_count": null,
            "_view_module": "@jupyter-widgets/base",
            "_view_module_version": "1.2.0",
            "_view_name": "StyleView",
            "description_width": ""
          }
        },
        "30a6a82cb29b4b18b900834d1841b07b": {
          "model_module": "@jupyter-widgets/controls",
          "model_name": "HBoxModel",
          "model_module_version": "1.5.0",
          "state": {
            "_dom_classes": [],
            "_model_module": "@jupyter-widgets/controls",
            "_model_module_version": "1.5.0",
            "_model_name": "HBoxModel",
            "_view_count": null,
            "_view_module": "@jupyter-widgets/controls",
            "_view_module_version": "1.5.0",
            "_view_name": "HBoxView",
            "box_style": "",
            "children": [
              "IPY_MODEL_ee32c1153f3f42ed96725c6d5ffecf4c",
              "IPY_MODEL_f959f097d68d439c9b982be73ebee42c",
              "IPY_MODEL_a79e9fcc21ce45f49aad11010e692490"
            ],
            "layout": "IPY_MODEL_8fe8a804f66f430e8771efb62d06e91e"
          }
        },
        "ee32c1153f3f42ed96725c6d5ffecf4c": {
          "model_module": "@jupyter-widgets/controls",
          "model_name": "HTMLModel",
          "model_module_version": "1.5.0",
          "state": {
            "_dom_classes": [],
            "_model_module": "@jupyter-widgets/controls",
            "_model_module_version": "1.5.0",
            "_model_name": "HTMLModel",
            "_view_count": null,
            "_view_module": "@jupyter-widgets/controls",
            "_view_module_version": "1.5.0",
            "_view_name": "HTMLView",
            "description": "",
            "description_tooltip": null,
            "layout": "IPY_MODEL_a294611bdab54c968fbdd97060a9f2bc",
            "placeholder": "​",
            "style": "IPY_MODEL_69e8c2d8973b491485e8ce5cc39f7673",
            "value": "tokenizer.json: 100%"
          }
        },
        "f959f097d68d439c9b982be73ebee42c": {
          "model_module": "@jupyter-widgets/controls",
          "model_name": "FloatProgressModel",
          "model_module_version": "1.5.0",
          "state": {
            "_dom_classes": [],
            "_model_module": "@jupyter-widgets/controls",
            "_model_module_version": "1.5.0",
            "_model_name": "FloatProgressModel",
            "_view_count": null,
            "_view_module": "@jupyter-widgets/controls",
            "_view_module_version": "1.5.0",
            "_view_name": "ProgressView",
            "bar_style": "success",
            "description": "",
            "description_tooltip": null,
            "layout": "IPY_MODEL_5a747422ee1a42d39ce86f8832300f02",
            "max": 435797,
            "min": 0,
            "orientation": "horizontal",
            "style": "IPY_MODEL_858af40cfb9d45a4921c9dfd9366c549",
            "value": 435797
          }
        },
        "a79e9fcc21ce45f49aad11010e692490": {
          "model_module": "@jupyter-widgets/controls",
          "model_name": "HTMLModel",
          "model_module_version": "1.5.0",
          "state": {
            "_dom_classes": [],
            "_model_module": "@jupyter-widgets/controls",
            "_model_module_version": "1.5.0",
            "_model_name": "HTMLModel",
            "_view_count": null,
            "_view_module": "@jupyter-widgets/controls",
            "_view_module_version": "1.5.0",
            "_view_name": "HTMLView",
            "description": "",
            "description_tooltip": null,
            "layout": "IPY_MODEL_0fcc82b194ea4aabbb9559ccd20425b3",
            "placeholder": "​",
            "style": "IPY_MODEL_52d0d09109334c4786c23f449b2e5352",
            "value": " 436k/436k [00:00&lt;00:00, 2.57MB/s]"
          }
        },
        "8fe8a804f66f430e8771efb62d06e91e": {
          "model_module": "@jupyter-widgets/base",
          "model_name": "LayoutModel",
          "model_module_version": "1.2.0",
          "state": {
            "_model_module": "@jupyter-widgets/base",
            "_model_module_version": "1.2.0",
            "_model_name": "LayoutModel",
            "_view_count": null,
            "_view_module": "@jupyter-widgets/base",
            "_view_module_version": "1.2.0",
            "_view_name": "LayoutView",
            "align_content": null,
            "align_items": null,
            "align_self": null,
            "border": null,
            "bottom": null,
            "display": null,
            "flex": null,
            "flex_flow": null,
            "grid_area": null,
            "grid_auto_columns": null,
            "grid_auto_flow": null,
            "grid_auto_rows": null,
            "grid_column": null,
            "grid_gap": null,
            "grid_row": null,
            "grid_template_areas": null,
            "grid_template_columns": null,
            "grid_template_rows": null,
            "height": null,
            "justify_content": null,
            "justify_items": null,
            "left": null,
            "margin": null,
            "max_height": null,
            "max_width": null,
            "min_height": null,
            "min_width": null,
            "object_fit": null,
            "object_position": null,
            "order": null,
            "overflow": null,
            "overflow_x": null,
            "overflow_y": null,
            "padding": null,
            "right": null,
            "top": null,
            "visibility": null,
            "width": null
          }
        },
        "a294611bdab54c968fbdd97060a9f2bc": {
          "model_module": "@jupyter-widgets/base",
          "model_name": "LayoutModel",
          "model_module_version": "1.2.0",
          "state": {
            "_model_module": "@jupyter-widgets/base",
            "_model_module_version": "1.2.0",
            "_model_name": "LayoutModel",
            "_view_count": null,
            "_view_module": "@jupyter-widgets/base",
            "_view_module_version": "1.2.0",
            "_view_name": "LayoutView",
            "align_content": null,
            "align_items": null,
            "align_self": null,
            "border": null,
            "bottom": null,
            "display": null,
            "flex": null,
            "flex_flow": null,
            "grid_area": null,
            "grid_auto_columns": null,
            "grid_auto_flow": null,
            "grid_auto_rows": null,
            "grid_column": null,
            "grid_gap": null,
            "grid_row": null,
            "grid_template_areas": null,
            "grid_template_columns": null,
            "grid_template_rows": null,
            "height": null,
            "justify_content": null,
            "justify_items": null,
            "left": null,
            "margin": null,
            "max_height": null,
            "max_width": null,
            "min_height": null,
            "min_width": null,
            "object_fit": null,
            "object_position": null,
            "order": null,
            "overflow": null,
            "overflow_x": null,
            "overflow_y": null,
            "padding": null,
            "right": null,
            "top": null,
            "visibility": null,
            "width": null
          }
        },
        "69e8c2d8973b491485e8ce5cc39f7673": {
          "model_module": "@jupyter-widgets/controls",
          "model_name": "DescriptionStyleModel",
          "model_module_version": "1.5.0",
          "state": {
            "_model_module": "@jupyter-widgets/controls",
            "_model_module_version": "1.5.0",
            "_model_name": "DescriptionStyleModel",
            "_view_count": null,
            "_view_module": "@jupyter-widgets/base",
            "_view_module_version": "1.2.0",
            "_view_name": "StyleView",
            "description_width": ""
          }
        },
        "5a747422ee1a42d39ce86f8832300f02": {
          "model_module": "@jupyter-widgets/base",
          "model_name": "LayoutModel",
          "model_module_version": "1.2.0",
          "state": {
            "_model_module": "@jupyter-widgets/base",
            "_model_module_version": "1.2.0",
            "_model_name": "LayoutModel",
            "_view_count": null,
            "_view_module": "@jupyter-widgets/base",
            "_view_module_version": "1.2.0",
            "_view_name": "LayoutView",
            "align_content": null,
            "align_items": null,
            "align_self": null,
            "border": null,
            "bottom": null,
            "display": null,
            "flex": null,
            "flex_flow": null,
            "grid_area": null,
            "grid_auto_columns": null,
            "grid_auto_flow": null,
            "grid_auto_rows": null,
            "grid_column": null,
            "grid_gap": null,
            "grid_row": null,
            "grid_template_areas": null,
            "grid_template_columns": null,
            "grid_template_rows": null,
            "height": null,
            "justify_content": null,
            "justify_items": null,
            "left": null,
            "margin": null,
            "max_height": null,
            "max_width": null,
            "min_height": null,
            "min_width": null,
            "object_fit": null,
            "object_position": null,
            "order": null,
            "overflow": null,
            "overflow_x": null,
            "overflow_y": null,
            "padding": null,
            "right": null,
            "top": null,
            "visibility": null,
            "width": null
          }
        },
        "858af40cfb9d45a4921c9dfd9366c549": {
          "model_module": "@jupyter-widgets/controls",
          "model_name": "ProgressStyleModel",
          "model_module_version": "1.5.0",
          "state": {
            "_model_module": "@jupyter-widgets/controls",
            "_model_module_version": "1.5.0",
            "_model_name": "ProgressStyleModel",
            "_view_count": null,
            "_view_module": "@jupyter-widgets/base",
            "_view_module_version": "1.2.0",
            "_view_name": "StyleView",
            "bar_color": null,
            "description_width": ""
          }
        },
        "0fcc82b194ea4aabbb9559ccd20425b3": {
          "model_module": "@jupyter-widgets/base",
          "model_name": "LayoutModel",
          "model_module_version": "1.2.0",
          "state": {
            "_model_module": "@jupyter-widgets/base",
            "_model_module_version": "1.2.0",
            "_model_name": "LayoutModel",
            "_view_count": null,
            "_view_module": "@jupyter-widgets/base",
            "_view_module_version": "1.2.0",
            "_view_name": "LayoutView",
            "align_content": null,
            "align_items": null,
            "align_self": null,
            "border": null,
            "bottom": null,
            "display": null,
            "flex": null,
            "flex_flow": null,
            "grid_area": null,
            "grid_auto_columns": null,
            "grid_auto_flow": null,
            "grid_auto_rows": null,
            "grid_column": null,
            "grid_gap": null,
            "grid_row": null,
            "grid_template_areas": null,
            "grid_template_columns": null,
            "grid_template_rows": null,
            "height": null,
            "justify_content": null,
            "justify_items": null,
            "left": null,
            "margin": null,
            "max_height": null,
            "max_width": null,
            "min_height": null,
            "min_width": null,
            "object_fit": null,
            "object_position": null,
            "order": null,
            "overflow": null,
            "overflow_x": null,
            "overflow_y": null,
            "padding": null,
            "right": null,
            "top": null,
            "visibility": null,
            "width": null
          }
        },
        "52d0d09109334c4786c23f449b2e5352": {
          "model_module": "@jupyter-widgets/controls",
          "model_name": "DescriptionStyleModel",
          "model_module_version": "1.5.0",
          "state": {
            "_model_module": "@jupyter-widgets/controls",
            "_model_module_version": "1.5.0",
            "_model_name": "DescriptionStyleModel",
            "_view_count": null,
            "_view_module": "@jupyter-widgets/base",
            "_view_module_version": "1.2.0",
            "_view_name": "StyleView",
            "description_width": ""
          }
        },
        "5e21a181bb2f4f67b605d5ee26c8bcf1": {
          "model_module": "@jupyter-widgets/controls",
          "model_name": "HBoxModel",
          "model_module_version": "1.5.0",
          "state": {
            "_dom_classes": [],
            "_model_module": "@jupyter-widgets/controls",
            "_model_module_version": "1.5.0",
            "_model_name": "HBoxModel",
            "_view_count": null,
            "_view_module": "@jupyter-widgets/controls",
            "_view_module_version": "1.5.0",
            "_view_name": "HBoxView",
            "box_style": "",
            "children": [
              "IPY_MODEL_317b3cc574fb4d00b75f613e4fe35bc2",
              "IPY_MODEL_96ea04cc81ed47918e4521c4df0cac0f",
              "IPY_MODEL_e557edf4066b46fca75c93eafdbd123a"
            ],
            "layout": "IPY_MODEL_c153885d56cc4fe48116ed46198aba72"
          }
        },
        "317b3cc574fb4d00b75f613e4fe35bc2": {
          "model_module": "@jupyter-widgets/controls",
          "model_name": "HTMLModel",
          "model_module_version": "1.5.0",
          "state": {
            "_dom_classes": [],
            "_model_module": "@jupyter-widgets/controls",
            "_model_module_version": "1.5.0",
            "_model_name": "HTMLModel",
            "_view_count": null,
            "_view_module": "@jupyter-widgets/controls",
            "_view_module_version": "1.5.0",
            "_view_name": "HTMLView",
            "description": "",
            "description_tooltip": null,
            "layout": "IPY_MODEL_7a5c46fd9800436990d7e8875f9b512b",
            "placeholder": "​",
            "style": "IPY_MODEL_07ab9360598947f4ab33fb0bf3ccdcb2",
            "value": "config.json: 100%"
          }
        },
        "96ea04cc81ed47918e4521c4df0cac0f": {
          "model_module": "@jupyter-widgets/controls",
          "model_name": "FloatProgressModel",
          "model_module_version": "1.5.0",
          "state": {
            "_dom_classes": [],
            "_model_module": "@jupyter-widgets/controls",
            "_model_module_version": "1.5.0",
            "_model_name": "FloatProgressModel",
            "_view_count": null,
            "_view_module": "@jupyter-widgets/controls",
            "_view_module_version": "1.5.0",
            "_view_name": "ProgressView",
            "bar_style": "success",
            "description": "",
            "description_tooltip": null,
            "layout": "IPY_MODEL_e2a1e9905f234d8b9e9100249ce66296",
            "max": 570,
            "min": 0,
            "orientation": "horizontal",
            "style": "IPY_MODEL_1ae29ab1e4614353ba6f60807bc81dc6",
            "value": 570
          }
        },
        "e557edf4066b46fca75c93eafdbd123a": {
          "model_module": "@jupyter-widgets/controls",
          "model_name": "HTMLModel",
          "model_module_version": "1.5.0",
          "state": {
            "_dom_classes": [],
            "_model_module": "@jupyter-widgets/controls",
            "_model_module_version": "1.5.0",
            "_model_name": "HTMLModel",
            "_view_count": null,
            "_view_module": "@jupyter-widgets/controls",
            "_view_module_version": "1.5.0",
            "_view_name": "HTMLView",
            "description": "",
            "description_tooltip": null,
            "layout": "IPY_MODEL_6f3d7ad84c5a4808932b6fef5b72877d",
            "placeholder": "​",
            "style": "IPY_MODEL_9d8a3862810248afbb70ac809b9ab2e0",
            "value": " 570/570 [00:00&lt;00:00, 46.3kB/s]"
          }
        },
        "c153885d56cc4fe48116ed46198aba72": {
          "model_module": "@jupyter-widgets/base",
          "model_name": "LayoutModel",
          "model_module_version": "1.2.0",
          "state": {
            "_model_module": "@jupyter-widgets/base",
            "_model_module_version": "1.2.0",
            "_model_name": "LayoutModel",
            "_view_count": null,
            "_view_module": "@jupyter-widgets/base",
            "_view_module_version": "1.2.0",
            "_view_name": "LayoutView",
            "align_content": null,
            "align_items": null,
            "align_self": null,
            "border": null,
            "bottom": null,
            "display": null,
            "flex": null,
            "flex_flow": null,
            "grid_area": null,
            "grid_auto_columns": null,
            "grid_auto_flow": null,
            "grid_auto_rows": null,
            "grid_column": null,
            "grid_gap": null,
            "grid_row": null,
            "grid_template_areas": null,
            "grid_template_columns": null,
            "grid_template_rows": null,
            "height": null,
            "justify_content": null,
            "justify_items": null,
            "left": null,
            "margin": null,
            "max_height": null,
            "max_width": null,
            "min_height": null,
            "min_width": null,
            "object_fit": null,
            "object_position": null,
            "order": null,
            "overflow": null,
            "overflow_x": null,
            "overflow_y": null,
            "padding": null,
            "right": null,
            "top": null,
            "visibility": null,
            "width": null
          }
        },
        "7a5c46fd9800436990d7e8875f9b512b": {
          "model_module": "@jupyter-widgets/base",
          "model_name": "LayoutModel",
          "model_module_version": "1.2.0",
          "state": {
            "_model_module": "@jupyter-widgets/base",
            "_model_module_version": "1.2.0",
            "_model_name": "LayoutModel",
            "_view_count": null,
            "_view_module": "@jupyter-widgets/base",
            "_view_module_version": "1.2.0",
            "_view_name": "LayoutView",
            "align_content": null,
            "align_items": null,
            "align_self": null,
            "border": null,
            "bottom": null,
            "display": null,
            "flex": null,
            "flex_flow": null,
            "grid_area": null,
            "grid_auto_columns": null,
            "grid_auto_flow": null,
            "grid_auto_rows": null,
            "grid_column": null,
            "grid_gap": null,
            "grid_row": null,
            "grid_template_areas": null,
            "grid_template_columns": null,
            "grid_template_rows": null,
            "height": null,
            "justify_content": null,
            "justify_items": null,
            "left": null,
            "margin": null,
            "max_height": null,
            "max_width": null,
            "min_height": null,
            "min_width": null,
            "object_fit": null,
            "object_position": null,
            "order": null,
            "overflow": null,
            "overflow_x": null,
            "overflow_y": null,
            "padding": null,
            "right": null,
            "top": null,
            "visibility": null,
            "width": null
          }
        },
        "07ab9360598947f4ab33fb0bf3ccdcb2": {
          "model_module": "@jupyter-widgets/controls",
          "model_name": "DescriptionStyleModel",
          "model_module_version": "1.5.0",
          "state": {
            "_model_module": "@jupyter-widgets/controls",
            "_model_module_version": "1.5.0",
            "_model_name": "DescriptionStyleModel",
            "_view_count": null,
            "_view_module": "@jupyter-widgets/base",
            "_view_module_version": "1.2.0",
            "_view_name": "StyleView",
            "description_width": ""
          }
        },
        "e2a1e9905f234d8b9e9100249ce66296": {
          "model_module": "@jupyter-widgets/base",
          "model_name": "LayoutModel",
          "model_module_version": "1.2.0",
          "state": {
            "_model_module": "@jupyter-widgets/base",
            "_model_module_version": "1.2.0",
            "_model_name": "LayoutModel",
            "_view_count": null,
            "_view_module": "@jupyter-widgets/base",
            "_view_module_version": "1.2.0",
            "_view_name": "LayoutView",
            "align_content": null,
            "align_items": null,
            "align_self": null,
            "border": null,
            "bottom": null,
            "display": null,
            "flex": null,
            "flex_flow": null,
            "grid_area": null,
            "grid_auto_columns": null,
            "grid_auto_flow": null,
            "grid_auto_rows": null,
            "grid_column": null,
            "grid_gap": null,
            "grid_row": null,
            "grid_template_areas": null,
            "grid_template_columns": null,
            "grid_template_rows": null,
            "height": null,
            "justify_content": null,
            "justify_items": null,
            "left": null,
            "margin": null,
            "max_height": null,
            "max_width": null,
            "min_height": null,
            "min_width": null,
            "object_fit": null,
            "object_position": null,
            "order": null,
            "overflow": null,
            "overflow_x": null,
            "overflow_y": null,
            "padding": null,
            "right": null,
            "top": null,
            "visibility": null,
            "width": null
          }
        },
        "1ae29ab1e4614353ba6f60807bc81dc6": {
          "model_module": "@jupyter-widgets/controls",
          "model_name": "ProgressStyleModel",
          "model_module_version": "1.5.0",
          "state": {
            "_model_module": "@jupyter-widgets/controls",
            "_model_module_version": "1.5.0",
            "_model_name": "ProgressStyleModel",
            "_view_count": null,
            "_view_module": "@jupyter-widgets/base",
            "_view_module_version": "1.2.0",
            "_view_name": "StyleView",
            "bar_color": null,
            "description_width": ""
          }
        },
        "6f3d7ad84c5a4808932b6fef5b72877d": {
          "model_module": "@jupyter-widgets/base",
          "model_name": "LayoutModel",
          "model_module_version": "1.2.0",
          "state": {
            "_model_module": "@jupyter-widgets/base",
            "_model_module_version": "1.2.0",
            "_model_name": "LayoutModel",
            "_view_count": null,
            "_view_module": "@jupyter-widgets/base",
            "_view_module_version": "1.2.0",
            "_view_name": "LayoutView",
            "align_content": null,
            "align_items": null,
            "align_self": null,
            "border": null,
            "bottom": null,
            "display": null,
            "flex": null,
            "flex_flow": null,
            "grid_area": null,
            "grid_auto_columns": null,
            "grid_auto_flow": null,
            "grid_auto_rows": null,
            "grid_column": null,
            "grid_gap": null,
            "grid_row": null,
            "grid_template_areas": null,
            "grid_template_columns": null,
            "grid_template_rows": null,
            "height": null,
            "justify_content": null,
            "justify_items": null,
            "left": null,
            "margin": null,
            "max_height": null,
            "max_width": null,
            "min_height": null,
            "min_width": null,
            "object_fit": null,
            "object_position": null,
            "order": null,
            "overflow": null,
            "overflow_x": null,
            "overflow_y": null,
            "padding": null,
            "right": null,
            "top": null,
            "visibility": null,
            "width": null
          }
        },
        "9d8a3862810248afbb70ac809b9ab2e0": {
          "model_module": "@jupyter-widgets/controls",
          "model_name": "DescriptionStyleModel",
          "model_module_version": "1.5.0",
          "state": {
            "_model_module": "@jupyter-widgets/controls",
            "_model_module_version": "1.5.0",
            "_model_name": "DescriptionStyleModel",
            "_view_count": null,
            "_view_module": "@jupyter-widgets/base",
            "_view_module_version": "1.2.0",
            "_view_name": "StyleView",
            "description_width": ""
          }
        },
        "04c2cec27af6416fbde6620a7e1f8ef0": {
          "model_module": "@jupyter-widgets/controls",
          "model_name": "HBoxModel",
          "model_module_version": "1.5.0",
          "state": {
            "_dom_classes": [],
            "_model_module": "@jupyter-widgets/controls",
            "_model_module_version": "1.5.0",
            "_model_name": "HBoxModel",
            "_view_count": null,
            "_view_module": "@jupyter-widgets/controls",
            "_view_module_version": "1.5.0",
            "_view_name": "HBoxView",
            "box_style": "",
            "children": [
              "IPY_MODEL_13b8925d4f1f437bbe5df3af0bb0250f",
              "IPY_MODEL_960ab8e8fbed4a28a738c6c93b10b7aa",
              "IPY_MODEL_b095b7d5cba54f17a24374fe398846e7"
            ],
            "layout": "IPY_MODEL_dd109f2db66340499593f9507407141d"
          }
        },
        "13b8925d4f1f437bbe5df3af0bb0250f": {
          "model_module": "@jupyter-widgets/controls",
          "model_name": "HTMLModel",
          "model_module_version": "1.5.0",
          "state": {
            "_dom_classes": [],
            "_model_module": "@jupyter-widgets/controls",
            "_model_module_version": "1.5.0",
            "_model_name": "HTMLModel",
            "_view_count": null,
            "_view_module": "@jupyter-widgets/controls",
            "_view_module_version": "1.5.0",
            "_view_name": "HTMLView",
            "description": "",
            "description_tooltip": null,
            "layout": "IPY_MODEL_1c40fceec0bb489a9aa0c3f272b5bb84",
            "placeholder": "​",
            "style": "IPY_MODEL_d5136f2dba3c46009564cb347299e1ee",
            "value": "model.safetensors: 100%"
          }
        },
        "960ab8e8fbed4a28a738c6c93b10b7aa": {
          "model_module": "@jupyter-widgets/controls",
          "model_name": "FloatProgressModel",
          "model_module_version": "1.5.0",
          "state": {
            "_dom_classes": [],
            "_model_module": "@jupyter-widgets/controls",
            "_model_module_version": "1.5.0",
            "_model_name": "FloatProgressModel",
            "_view_count": null,
            "_view_module": "@jupyter-widgets/controls",
            "_view_module_version": "1.5.0",
            "_view_name": "ProgressView",
            "bar_style": "success",
            "description": "",
            "description_tooltip": null,
            "layout": "IPY_MODEL_4330aceaf17444199c684807f15992ec",
            "max": 435755784,
            "min": 0,
            "orientation": "horizontal",
            "style": "IPY_MODEL_b6144dc836fd47cbacb65ed9fdda220e",
            "value": 435755784
          }
        },
        "b095b7d5cba54f17a24374fe398846e7": {
          "model_module": "@jupyter-widgets/controls",
          "model_name": "HTMLModel",
          "model_module_version": "1.5.0",
          "state": {
            "_dom_classes": [],
            "_model_module": "@jupyter-widgets/controls",
            "_model_module_version": "1.5.0",
            "_model_name": "HTMLModel",
            "_view_count": null,
            "_view_module": "@jupyter-widgets/controls",
            "_view_module_version": "1.5.0",
            "_view_name": "HTMLView",
            "description": "",
            "description_tooltip": null,
            "layout": "IPY_MODEL_c39e327df9fe4c6e9e6fecb3136ef80a",
            "placeholder": "​",
            "style": "IPY_MODEL_860da3c912694cbdbe5bafdcef26ad73",
            "value": " 436M/436M [00:01&lt;00:00, 247MB/s]"
          }
        },
        "dd109f2db66340499593f9507407141d": {
          "model_module": "@jupyter-widgets/base",
          "model_name": "LayoutModel",
          "model_module_version": "1.2.0",
          "state": {
            "_model_module": "@jupyter-widgets/base",
            "_model_module_version": "1.2.0",
            "_model_name": "LayoutModel",
            "_view_count": null,
            "_view_module": "@jupyter-widgets/base",
            "_view_module_version": "1.2.0",
            "_view_name": "LayoutView",
            "align_content": null,
            "align_items": null,
            "align_self": null,
            "border": null,
            "bottom": null,
            "display": null,
            "flex": null,
            "flex_flow": null,
            "grid_area": null,
            "grid_auto_columns": null,
            "grid_auto_flow": null,
            "grid_auto_rows": null,
            "grid_column": null,
            "grid_gap": null,
            "grid_row": null,
            "grid_template_areas": null,
            "grid_template_columns": null,
            "grid_template_rows": null,
            "height": null,
            "justify_content": null,
            "justify_items": null,
            "left": null,
            "margin": null,
            "max_height": null,
            "max_width": null,
            "min_height": null,
            "min_width": null,
            "object_fit": null,
            "object_position": null,
            "order": null,
            "overflow": null,
            "overflow_x": null,
            "overflow_y": null,
            "padding": null,
            "right": null,
            "top": null,
            "visibility": null,
            "width": null
          }
        },
        "1c40fceec0bb489a9aa0c3f272b5bb84": {
          "model_module": "@jupyter-widgets/base",
          "model_name": "LayoutModel",
          "model_module_version": "1.2.0",
          "state": {
            "_model_module": "@jupyter-widgets/base",
            "_model_module_version": "1.2.0",
            "_model_name": "LayoutModel",
            "_view_count": null,
            "_view_module": "@jupyter-widgets/base",
            "_view_module_version": "1.2.0",
            "_view_name": "LayoutView",
            "align_content": null,
            "align_items": null,
            "align_self": null,
            "border": null,
            "bottom": null,
            "display": null,
            "flex": null,
            "flex_flow": null,
            "grid_area": null,
            "grid_auto_columns": null,
            "grid_auto_flow": null,
            "grid_auto_rows": null,
            "grid_column": null,
            "grid_gap": null,
            "grid_row": null,
            "grid_template_areas": null,
            "grid_template_columns": null,
            "grid_template_rows": null,
            "height": null,
            "justify_content": null,
            "justify_items": null,
            "left": null,
            "margin": null,
            "max_height": null,
            "max_width": null,
            "min_height": null,
            "min_width": null,
            "object_fit": null,
            "object_position": null,
            "order": null,
            "overflow": null,
            "overflow_x": null,
            "overflow_y": null,
            "padding": null,
            "right": null,
            "top": null,
            "visibility": null,
            "width": null
          }
        },
        "d5136f2dba3c46009564cb347299e1ee": {
          "model_module": "@jupyter-widgets/controls",
          "model_name": "DescriptionStyleModel",
          "model_module_version": "1.5.0",
          "state": {
            "_model_module": "@jupyter-widgets/controls",
            "_model_module_version": "1.5.0",
            "_model_name": "DescriptionStyleModel",
            "_view_count": null,
            "_view_module": "@jupyter-widgets/base",
            "_view_module_version": "1.2.0",
            "_view_name": "StyleView",
            "description_width": ""
          }
        },
        "4330aceaf17444199c684807f15992ec": {
          "model_module": "@jupyter-widgets/base",
          "model_name": "LayoutModel",
          "model_module_version": "1.2.0",
          "state": {
            "_model_module": "@jupyter-widgets/base",
            "_model_module_version": "1.2.0",
            "_model_name": "LayoutModel",
            "_view_count": null,
            "_view_module": "@jupyter-widgets/base",
            "_view_module_version": "1.2.0",
            "_view_name": "LayoutView",
            "align_content": null,
            "align_items": null,
            "align_self": null,
            "border": null,
            "bottom": null,
            "display": null,
            "flex": null,
            "flex_flow": null,
            "grid_area": null,
            "grid_auto_columns": null,
            "grid_auto_flow": null,
            "grid_auto_rows": null,
            "grid_column": null,
            "grid_gap": null,
            "grid_row": null,
            "grid_template_areas": null,
            "grid_template_columns": null,
            "grid_template_rows": null,
            "height": null,
            "justify_content": null,
            "justify_items": null,
            "left": null,
            "margin": null,
            "max_height": null,
            "max_width": null,
            "min_height": null,
            "min_width": null,
            "object_fit": null,
            "object_position": null,
            "order": null,
            "overflow": null,
            "overflow_x": null,
            "overflow_y": null,
            "padding": null,
            "right": null,
            "top": null,
            "visibility": null,
            "width": null
          }
        },
        "b6144dc836fd47cbacb65ed9fdda220e": {
          "model_module": "@jupyter-widgets/controls",
          "model_name": "ProgressStyleModel",
          "model_module_version": "1.5.0",
          "state": {
            "_model_module": "@jupyter-widgets/controls",
            "_model_module_version": "1.5.0",
            "_model_name": "ProgressStyleModel",
            "_view_count": null,
            "_view_module": "@jupyter-widgets/base",
            "_view_module_version": "1.2.0",
            "_view_name": "StyleView",
            "bar_color": null,
            "description_width": ""
          }
        },
        "c39e327df9fe4c6e9e6fecb3136ef80a": {
          "model_module": "@jupyter-widgets/base",
          "model_name": "LayoutModel",
          "model_module_version": "1.2.0",
          "state": {
            "_model_module": "@jupyter-widgets/base",
            "_model_module_version": "1.2.0",
            "_model_name": "LayoutModel",
            "_view_count": null,
            "_view_module": "@jupyter-widgets/base",
            "_view_module_version": "1.2.0",
            "_view_name": "LayoutView",
            "align_content": null,
            "align_items": null,
            "align_self": null,
            "border": null,
            "bottom": null,
            "display": null,
            "flex": null,
            "flex_flow": null,
            "grid_area": null,
            "grid_auto_columns": null,
            "grid_auto_flow": null,
            "grid_auto_rows": null,
            "grid_column": null,
            "grid_gap": null,
            "grid_row": null,
            "grid_template_areas": null,
            "grid_template_columns": null,
            "grid_template_rows": null,
            "height": null,
            "justify_content": null,
            "justify_items": null,
            "left": null,
            "margin": null,
            "max_height": null,
            "max_width": null,
            "min_height": null,
            "min_width": null,
            "object_fit": null,
            "object_position": null,
            "order": null,
            "overflow": null,
            "overflow_x": null,
            "overflow_y": null,
            "padding": null,
            "right": null,
            "top": null,
            "visibility": null,
            "width": null
          }
        },
        "860da3c912694cbdbe5bafdcef26ad73": {
          "model_module": "@jupyter-widgets/controls",
          "model_name": "DescriptionStyleModel",
          "model_module_version": "1.5.0",
          "state": {
            "_model_module": "@jupyter-widgets/controls",
            "_model_module_version": "1.5.0",
            "_model_name": "DescriptionStyleModel",
            "_view_count": null,
            "_view_module": "@jupyter-widgets/base",
            "_view_module_version": "1.2.0",
            "_view_name": "StyleView",
            "description_width": ""
          }
        }
      }
    }
  },
  "cells": [
    {
      "cell_type": "code",
      "source": [
        "from google.colab import drive\n",
        "drive.mount('/content/drive')"
      ],
      "metadata": {
        "colab": {
          "base_uri": "https://localhost:8080/"
        },
        "id": "LWI55rzF51IT",
        "outputId": "7021e19a-a9cf-4f11-85c0-5ccbbb691f29"
      },
      "execution_count": 1,
      "outputs": [
        {
          "output_type": "stream",
          "name": "stdout",
          "text": [
            "Mounted at /content/drive\n"
          ]
        }
      ]
    },
    {
      "cell_type": "markdown",
      "source": [
        "# Modules and Imports"
      ],
      "metadata": {
        "id": "n8UqXwN1dsZf"
      }
    },
    {
      "cell_type": "code",
      "source": [
        "import pandas as pd\n",
        "import numpy as np\n",
        "import matplotlib.pyplot as plt\n",
        "from transformers import BertTokenizer, TFBertModel, BertModel\n",
        "from sklearn.model_selection import train_test_split\n",
        "import json\n",
        "import warnings\n",
        "import torch\n",
        "from torch.utils.data import Dataset, DataLoader\n",
        "import torch.nn as nn\n",
        "import torch.optim as optim\n",
        "import ast\n",
        "\n",
        "warnings.filterwarnings('ignore')\n"
      ],
      "metadata": {
        "id": "PggLJ9xf7iTz"
      },
      "execution_count": 2,
      "outputs": []
    },
    {
      "cell_type": "code",
      "source": [
        "if torch.cuda.is_available():\n",
        "    torch.set_default_tensor_type(torch.cuda.FloatTensor)  # Default to CUDA\n",
        "else:\n",
        "    torch.set_default_tensor_type(torch.FloatTensor)  # Default to CPU\n",
        "\n",
        "device = torch.device(\"cuda\" if torch.cuda.is_available() else \"cpu\")\n",
        "\n",
        "print(torch.cuda.is_available())\n",
        "print(device)"
      ],
      "metadata": {
        "colab": {
          "base_uri": "https://localhost:8080/"
        },
        "id": "M7C4WkPA0Xwq",
        "outputId": "0c559ffc-96c0-443d-bad4-1925a8fa7d67"
      },
      "execution_count": 3,
      "outputs": [
        {
          "output_type": "stream",
          "name": "stdout",
          "text": [
            "True\n",
            "cuda\n"
          ]
        }
      ]
    },
    {
      "cell_type": "markdown",
      "source": [
        "Uncomment to get the dataset"
      ],
      "metadata": {
        "id": "ez5ic-HGdwy1"
      }
    },
    {
      "cell_type": "code",
      "execution_count": 4,
      "metadata": {
        "id": "hzgs9m7tKuLX"
      },
      "outputs": [],
      "source": [
        "#!git clone https://github.com/EducationalTestingService/sarcasm.git\n",
        "#!mkdir -p /content/drive/MyDrive/FALL2024/comp550/final_project\n",
        "#!cp -r sarcasm /content/drive/MyDrive/FALL2024/comp550/final_project"
      ]
    },
    {
      "cell_type": "markdown",
      "source": [
        "# Utility Functions"
      ],
      "metadata": {
        "id": "0rCQiWhedzSg"
      }
    },
    {
      "cell_type": "code",
      "source": [
        "def disconnect_runtime():\n",
        "    \"\"\"\n",
        "    Disconnects the Google Colab runtime programmatically.\n",
        "    \"\"\"\n",
        "    from google.colab import runtime\n",
        "    print(\"Disconnecting the runtime...\")\n",
        "    runtime.unassign()\n",
        "\n",
        "\n",
        "\n",
        "def load_jsonl_data(file_path):\n",
        "    data = []\n",
        "    with open(file_path, 'r') as file:\n",
        "        for line in file:\n",
        "            data.append(json.loads(line))\n",
        "    return data\n",
        "\n",
        "\n",
        "def list_shape(lst):\n",
        "    \"\"\"\n",
        "    Recursively determines the shape of a nested list.\n",
        "\n",
        "    Args:\n",
        "        lst (list): The input nested list.\n",
        "\n",
        "    Returns:\n",
        "        tuple: A tuple representing the shape of the list.\n",
        "    \"\"\"\n",
        "    if isinstance(lst, list):\n",
        "        if len(lst) == 0:\n",
        "            return (0,)  # Empty list\n",
        "        return (len(lst), *list_shape(lst[0]))\n",
        "    else:\n",
        "        return ()  # End of recursion for non-list elements\n",
        "\n",
        "\n",
        "def custom_collate_fn(batch):\n",
        "    contexts = [sample['context'] for sample in batch]\n",
        "    responses = [sample['response'] for sample in batch]\n",
        "    labels = torch.stack([sample['label'] for sample in batch])\n",
        "\n",
        "    # Process contexts and responses as needed\n",
        "    # For example, flattening or stacking them appropriately\n",
        "    return {\n",
        "        'context': contexts,\n",
        "        'response': responses,\n",
        "        'label': labels\n",
        "    }\n",
        "\n"
      ],
      "metadata": {
        "id": "m4Th6uCDd2AF"
      },
      "execution_count": 5,
      "outputs": []
    },
    {
      "cell_type": "markdown",
      "source": [
        "# Data Visualization"
      ],
      "metadata": {
        "id": "hhhZbKJzyMGO"
      }
    },
    {
      "cell_type": "markdown",
      "source": [
        "## Path Constants"
      ],
      "metadata": {
        "id": "TU0HpG03yrlD"
      }
    },
    {
      "cell_type": "markdown",
      "source": [
        "## JSON files format (only use once to convert it to dataframe)"
      ],
      "metadata": {
        "id": "zrU31ljQGrPs"
      }
    },
    {
      "cell_type": "code",
      "source": [
        "REDDIT_TRAINING_DATA_PATH_JSON = \"/content/drive/MyDrive/FALL2024/comp550/final_project/sarcasm/reddit/sarcasm_detection_shared_task_reddit_training.jsonl\"\n",
        "REDDIT_TESTING_DATA_PATH_JSON = \"/content/drive/MyDrive/FALL2024/comp550/final_project/sarcasm/reddit/sarcasm_detection_shared_task_reddit_testing.jsonl\"\n",
        "TWITTER_TRAINING_DATA_PATH_JSON = \"/content/drive/MyDrive/FALL2024/comp550/final_project/sarcasm/twitter/sarcasm_detection_shared_task_twitter_training.jsonl\"\n",
        "TWITTER_TESTING_DATA_PATH_JSON= \"/content/drive/MyDrive/FALL2024/comp550/final_project/sarcasm/twitter/sarcasm_detection_shared_task_twitter_testing.jsonl\""
      ],
      "metadata": {
        "id": "sPMz3FROyWwO"
      },
      "execution_count": 6,
      "outputs": []
    },
    {
      "cell_type": "markdown",
      "source": [
        "## Data frame format"
      ],
      "metadata": {
        "id": "Eyg6urIfGvg1"
      }
    },
    {
      "cell_type": "code",
      "source": [
        "REDDIT_TRAINING_PATH_DATAFRAME = \"/content/drive/MyDrive/FALL2024/comp550/final_project/sarcasm/reddit/train_val_split/training_set.csv\"\n",
        "REDDIT_VALIDATION_PATH_DATAFRAME = \"/content/drive/MyDrive/FALL2024/comp550/final_project/sarcasm/reddit/train_val_split/validation_set.csv\"\n",
        "REDDIT_TESTING_PATH_DATAFRAME = \"/content/drive/MyDrive/FALL2024/comp550/final_project/sarcasm/reddit/sarcasm_detection_reddit_testing.csv\""
      ],
      "metadata": {
        "id": "zCljfY67Gxe5"
      },
      "execution_count": 7,
      "outputs": []
    },
    {
      "cell_type": "markdown",
      "source": [
        "# Data Processing\n"
      ],
      "metadata": {
        "id": "Ntf1CKr-70Uw"
      }
    },
    {
      "cell_type": "code",
      "source": [
        "def is_pad_tensor(tensor):\n",
        "    correct_start = tensor[0][0] == 101\n",
        "    correct_middle = tensor[0][1] == 0\n",
        "    correct_end = tensor[0][2] == 102\n",
        "    return correct_start and correct_middle and correct_end"
      ],
      "metadata": {
        "id": "WC6p-8r3uufr"
      },
      "execution_count": 8,
      "outputs": []
    },
    {
      "cell_type": "markdown",
      "source": [
        "## Padding\n",
        "Given that each context has a different number of utterences, it means that the context list differes in length depending on the data point. So we need to pad those to make it uniform\n",
        "\n",
        "`No need to run this cell each time. run it once to convert the dataset to df and pad it. The code save it in the directory so no need to rerun agin`\n"
      ],
      "metadata": {
        "id": "n7cyt02-sR65"
      }
    },
    {
      "cell_type": "code",
      "source": [
        "\"\"\"\n",
        "import pandas as pd\n",
        "\n",
        "dataset = pd.DataFrame(load_jsonl_data(REDDIT_TESTING_DATA_PATH))\n",
        "\n",
        "# Determine the maximum length of the lists in the \"context\" column\n",
        "dataset['context_list_length'] = dataset['context'].apply(len)\n",
        "max_length = dataset['context_list_length'].max()\n",
        "\n",
        "print(\"Maximum number of utterences: \", max_length)\n",
        "\n",
        "# Function to pad or truncate each context list to the maximum length\n",
        "def pad_context(context, max_length):\n",
        "    return context + ['[PAD]'] * (max_length - len(context))\n",
        "\n",
        "# Apply padding\n",
        "dataset['context'] = dataset['context'].apply(lambda x: pad_context(x, max_length))\n",
        "\n",
        "# Drop the intermediate length column\n",
        "dataset = dataset.drop(columns=['context_list_length'])\n",
        "\n",
        "# Save the updated dataset\n",
        "output_file_path = '/content/drive/MyDrive/FALL2024/comp550/final_project/sarcasm/reddit/sarcasm_detection_reddit_testing.csv'  # Replace with your desired output file name\n",
        "dataset.to_csv(output_file_path, index=False)\n",
        "\n",
        "print(f\"Padded dataset saved to {output_file_path}\")\n",
        "\"\"\""
      ],
      "metadata": {
        "colab": {
          "base_uri": "https://localhost:8080/",
          "height": 157
        },
        "id": "XxL5UPSgsifO",
        "outputId": "32ca5487-3fca-4123-ea9d-a2c5614062f0"
      },
      "execution_count": 9,
      "outputs": [
        {
          "output_type": "execute_result",
          "data": {
            "text/plain": [
              "'\\nimport pandas as pd\\n\\ndataset = pd.DataFrame(load_jsonl_data(REDDIT_TESTING_DATA_PATH))\\n\\n# Determine the maximum length of the lists in the \"context\" column\\ndataset[\\'context_list_length\\'] = dataset[\\'context\\'].apply(len)\\nmax_length = dataset[\\'context_list_length\\'].max()\\n\\nprint(\"Maximum number of utterences: \", max_length)\\n\\n# Function to pad or truncate each context list to the maximum length\\ndef pad_context(context, max_length):\\n    return context + [\\'[PAD]\\'] * (max_length - len(context))\\n\\n# Apply padding\\ndataset[\\'context\\'] = dataset[\\'context\\'].apply(lambda x: pad_context(x, max_length))\\n\\n# Drop the intermediate length column\\ndataset = dataset.drop(columns=[\\'context_list_length\\'])\\n\\n# Save the updated dataset\\noutput_file_path = \\'/content/drive/MyDrive/FALL2024/comp550/final_project/sarcasm/reddit/sarcasm_detection_reddit_testing.csv\\'  # Replace with your desired output file name\\ndataset.to_csv(output_file_path, index=False)\\n\\nprint(f\"Padded dataset saved to {output_file_path}\")\\n'"
            ],
            "application/vnd.google.colaboratory.intrinsic+json": {
              "type": "string"
            }
          },
          "metadata": {},
          "execution_count": 9
        }
      ]
    },
    {
      "cell_type": "markdown",
      "source": [
        "# Dataset Class"
      ],
      "metadata": {
        "id": "TEeczvzkJVFT"
      }
    },
    {
      "cell_type": "code",
      "source": [
        "class RedditDataset(Dataset):\n",
        "    def __init__(self, path_to_dataset_df, device,  a_sample_of = None, tokenizer = \"bert-base-cased\" , max_sentence_length=100): # I adjusted a_sample_of to be a percentage\n",
        "        # Load data from json file to dataframe\n",
        "        if path_to_dataset_df.endswith('.jsonl'):\n",
        "            print(\"Recevied a json file\")\n",
        "            self.data = pd.DataFrame(load_jsonl_data(path_to_dataset_df))\n",
        "        else:\n",
        "            print(\"Recevied a csv file\")\n",
        "            self.data = pd.read_csv(path_to_dataset_df)\n",
        "            self.data['context']= self.data['context'].apply(ast.literal_eval)\n",
        "\n",
        "        # Added this feature to use it if we want to check if the code trains well on a subset\n",
        "        if a_sample_of is not None:\n",
        "            balanced_subset, _ = train_test_split(self.data,\n",
        "                                      stratify=self.data['label'],\n",
        "                                      train_size=a_sample_of,\n",
        "                                      random_state=42)\n",
        "\n",
        "            self.data = balanced_subset\n",
        "\n",
        "        # Map string labels to floats\n",
        "        self.data['label'] = self.data['label'].map({'SARCASM': 1, 'NOT_SARCASM': 0}).astype(float)\n",
        "\n",
        "        self.device = device\n",
        "        self.tokenizer = BertTokenizer.from_pretrained(tokenizer)\n",
        "        self.max_sentence_length = max_sentence_length\n",
        "\n",
        "    def __len__(self):\n",
        "        return len(self.data)\n",
        "\n",
        "    def __getitem__(self, idx):\n",
        "        row = self.data.iloc[idx] # Here we obtain the row that contain the context, response and label. All readable, nothing tokenized yet\n",
        "\n",
        "        context = row['context'] # Untokenized context\n",
        "\n",
        "        context_tokens = []\n",
        "        for utterence in context: # Here we are going to tokenize each utterencein the context\n",
        "            tokenized_utterence = self.tokenizer(\n",
        "                utterence,\n",
        "                return_tensors=\"pt\",\n",
        "                padding=\"max_length\",\n",
        "                truncation=True,\n",
        "                max_length=self.max_sentence_length\n",
        "            ).to(self.device)\n",
        "\n",
        "            context_tokens.append(tokenized_utterence)\n",
        "\n",
        "\n",
        "        response = row['response']\n",
        "        response_tokens = self.tokenizer(\n",
        "            response,\n",
        "            return_tensors=\"pt\",\n",
        "            padding=\"max_length\",\n",
        "            truncation=True,\n",
        "            max_length=self.max_sentence_length\n",
        "        ).to(self.device)\n",
        "\n",
        "        label = torch.tensor(float(row['label']), dtype=torch.float32).to(self.device)\n",
        "        return {'context': context_tokens, 'response': response_tokens, 'label': label}\n",
        "\n",
        "    def get_df(self):\n",
        "        return self.data"
      ],
      "metadata": {
        "id": "mquw6WAUJWtT"
      },
      "execution_count": 10,
      "outputs": []
    },
    {
      "cell_type": "markdown",
      "source": [
        "# Model Architecture as per the article\n",
        "\n",
        "I will build the model architure exactly as shown in the article"
      ],
      "metadata": {
        "id": "NHmKz07S7O2O"
      }
    },
    {
      "cell_type": "markdown",
      "source": [
        "## Layer 1: Sentence Encoding Layer"
      ],
      "metadata": {
        "id": "kfty7KOLGouL"
      }
    },
    {
      "cell_type": "code",
      "source": [
        "# Input: batches of Context (utterences), and response\n",
        "\n",
        "# output: two outputs:\n",
        "    # batch of Context Encoded (batch_size, m, 100, 768)\n",
        "    # batch of Reponse Encoded list of size (batch_size, 100, 2*lstm_hiddien_size)\n",
        "class SentenceEncodingLayer(nn.Module):\n",
        "\n",
        "    # The lstm_hidden_size is a parameter that we can adjust\n",
        "    def __init__(self, bert_model_name=\"bert-base-cased\", lstm_hidden_size=300):\n",
        "\n",
        "        super(SentenceEncodingLayer, self).__init__()\n",
        "        self.device = torch.device(\"cuda\" if torch.cuda.is_available() else \"cpu\")\n",
        "\n",
        "        # Initialize BERT tokenizer and model for context and response\n",
        "        self.context_encoder = BertModel.from_pretrained(bert_model_name).to(self.device)\n",
        "        self.response_encoder = BertModel.from_pretrained(bert_model_name).to(self.device)\n",
        "\n",
        "        # BiLSTM layer for response encoding\n",
        "        self.lstm = nn.LSTM(\n",
        "            input_size=768,  # BERT output dimension\n",
        "            hidden_size=lstm_hidden_size,\n",
        "            bidirectional=True,\n",
        "            batch_first=True\n",
        "        ).to(self.device)\n",
        "\n",
        "\n",
        "    def encode_context(self, context_tokens_batch): # Outputs are stacked to form a tensor of shape (m, max_sentence_length, 768).\n",
        "        batched_context_embeddings = []\n",
        "\n",
        "\n",
        "        for tokenized_context in context_tokens_batch:\n",
        "\n",
        "            utterance_embeddings = []\n",
        "\n",
        "            for utt in tokenized_context:\n",
        "               # if is_pad_tensor(utt['input_ids']):\n",
        "               #     continue\n",
        "                utt_embedding = self.context_encoder(**utt).last_hidden_state\n",
        "                utterance_embeddings.append(utt_embedding.squeeze(0))\n",
        "\n",
        "\n",
        "            stacked_utterance_embeddings = torch.stack(utterance_embeddings)\n",
        "            batched_context_embeddings.append(stacked_utterance_embeddings)\n",
        "\n",
        "        stacked_batched_context_embeddings = torch.stack(batched_context_embeddings)\n",
        "        return stacked_batched_context_embeddings\n",
        "\n",
        "    def encode_response(self, response_tokens_batch):\n",
        "        # The input is a batch of respones\n",
        "        \"\"\"\n",
        "        Encodes the response sentence using the response BERT encoder and a BiLSTM.\n",
        "        A BiLSTM processes the embeddings to capture sequential dependencies,\n",
        "        outputting a representation of shape (batch_size, max_sentence_length, 2*lstm_hidden_size).\n",
        "        \"\"\"\n",
        "        batched_response_embeddings = []\n",
        "        for tokenized_response in response_tokens_batch:\n",
        "            response_embedding = self.response_encoder(**tokenized_response).last_hidden_state  # Shape: (1, max_sentence_length, 768)\n",
        "            lstm_out, _ = self.lstm(response_embedding)  # Shape: (1, max_sentence_length, 2*lstm_hidden_size)\n",
        "            batched_response_embeddings.append(lstm_out)\n",
        "        # Stack embeddings for all responses in the batch\n",
        "\n",
        "        lstm_out = lstm_out = torch.cat(batched_response_embeddings, dim=0) #torch.stack(batched_response_embeddings)\n",
        "\n",
        "        return lstm_out\n",
        "\n",
        "    def forward(self, context_tokens_batch, response_tokens_batch):\n",
        "        \"\"\"\n",
        "        Encodes the context and response and returns their representations.\n",
        "        \"\"\"\n",
        "        # Encode the context (list of utterances)\n",
        "        context_representation = self.encode_context(context_tokens_batch)\n",
        "\n",
        "        # Encode the response\n",
        "        response_representation = self.encode_response(response_tokens_batch)\n",
        "        return context_representation, response_representation\n",
        "\n"
      ],
      "metadata": {
        "id": "LSgtADX37R2x"
      },
      "execution_count": 11,
      "outputs": []
    },
    {
      "cell_type": "markdown",
      "source": [
        "## Layer 2: Context Summarization\n",
        "\n",
        "This layer only operates on the \"Encoded_Context\" according to the article only deal with the \"encoded_context\" which is outputted from the previous layer. The each encoded context has a dimension of [m, 100, 768] and in total we have len(dataset) contexts."
      ],
      "metadata": {
        "id": "Dj3bHfHeGsZf"
      }
    },
    {
      "cell_type": "code",
      "source": [
        "# This thing only deals with the Context (It does not care about the response)\n",
        "# The goal is to reduce the dimension of the context\n",
        "\n",
        "\n",
        "# input shape: [batch_size num_uttenrences, 100, 768]\n",
        "\n",
        "# output: [batch_size, num_uttenrences - k_row + 1, 100 - k_col +1, 128 ]\n",
        "\n",
        "class ContextSummarizationLayer(nn.Module):\n",
        "    # The dsum, k_rows, k_col are variables that need to be optimized\n",
        "    def __init__(self, d_bert= 768, dsum = 128, k_row = 2, k_col =2, padding = 0, stride =1):\n",
        "        super(ContextSummarizationLayer, self).__init__()\n",
        "        self.k_row = k_row\n",
        "        self.k_col = k_col\n",
        "\n",
        "        # Conv2D expects an input as follows: (N, C_in, H, W)\n",
        "        self.conv2D = nn.Conv2d(in_channels=d_bert,  # Context tensor is treated as a single \"channel\"\n",
        "                                out_channels=dsum, # Number of features maps to produce, which means that each utterence will be mapped to d_sum features\n",
        "                                kernel_size=(k_row, k_col),\n",
        "                                stride = stride,     # I think this is the default value, but just putting it to ensure the understanding flow of the article\n",
        "                                padding = padding  # Does the article mentions padding? I think that's a different aspect to look after\n",
        "                                )\n",
        "\n",
        "    def forward(self, context_representation_batch):  # Input shape: (Batch_size ,m, d_sen, d_bert) which is (Batch_size , num_utterences, 100, 768)\n",
        "        # Permute from (Batch_size , m, d_sen, d_bert), to (Batch_size , d_bert, m, d_sen) to match Conv2D requirements.\n",
        "        context_representation_batch = context_representation_batch.permute(0, 3, 1, 2).to(self.conv2D.weight.device)\n",
        "        # Apply 2D convolution the input shape here is (d_bert, m, d_sen)\n",
        "        summarized_context_batch = self.conv2D(context_representation_batch) # Shape: Output shape: (Batch_size , dsum, m-k_row+1, d_sen-k_col+1).\n",
        "\n",
        "        # Permute the dimensions to make the output compatible with what the article says: (Batch_size , dsum, m-k_row+1, d_sen-k_col+1) -> (Batch_size , m-k_row+1, d_sen-k_col+1, dsum)\n",
        "        summarized_context_batch = summarized_context_batch.permute(0, 2, 3, 1)\n",
        "\n",
        "        return summarized_context_batch"
      ],
      "metadata": {
        "id": "Du2lzjalJMWA"
      },
      "execution_count": 12,
      "outputs": []
    },
    {
      "cell_type": "markdown",
      "source": [
        "## Layer 3: Context Encoder Layer"
      ],
      "metadata": {
        "id": "8Q25MB-kqTzj"
      }
    },
    {
      "cell_type": "code",
      "source": [
        "# input shape: (batch_size, m-k_row+1, d_sen-k_col+1, dsum)\n",
        "# output_shape: (batch_size, m-k_row+1 , 2*lstm_hidden_size)\n",
        "class ContextEncoderLayer(nn.Module):\n",
        "    # The article says that the number of layers is 1\n",
        "    def __init__(self, size_of_input, lstm_hidden_size=300, number_of_layers=1):\n",
        "        super(ContextEncoderLayer, self).__init__()\n",
        "        self.input_size = size_of_input\n",
        "        self.lstm_hidden_size = lstm_hidden_size\n",
        "        self.bilstm = nn.LSTM(\n",
        "            input_size=self.input_size, # This should be the dimension of the input for each utterance\n",
        "            hidden_size=self.lstm_hidden_size,\n",
        "            num_layers=number_of_layers,\n",
        "            bidirectional=True,\n",
        "            batch_first=True\n",
        "        )\n",
        "\n",
        "    def forward(self, summarized_context_batch):\n",
        "\n",
        "        # Input shape of the summarized context is: (batch_size, m-k_row+1, d_sen-k_col+1, dsum)\n",
        "        batch_size, reduced_num_utterences, reduce_dsen, dsum = summarized_context_batch.size()\n",
        "\n",
        "        # The reshape operation flattens dsen - kcol + 1 and dsum into a single dimension input preserving m- krows + 1 as the sequence length.\n",
        "        summarized_context_batch = summarized_context_batch.reshape(batch_size, reduced_num_utterences, -1)  # Shape: (batch_size, m - k_row + 1, (d_sen - k_col + 1) * d_sum)\n",
        "        summarized_context_batch = summarized_context_batch.to(self.bilstm.weight_hh_l0.device) # This is just to make sure we are on the correct device, maybe need to remove it\n",
        "        lstm_output, _ = self.bilstm(summarized_context_batch)\n",
        "\n",
        "        # Output shape: (batch_size ,m - k_row + 1, hidden_dim * 2)\n",
        "        return lstm_output\n"
      ],
      "metadata": {
        "id": "kJx5zMAaq8Dh"
      },
      "execution_count": 13,
      "outputs": []
    },
    {
      "cell_type": "markdown",
      "source": [
        "## Layer 4: CNN Layer\n",
        "\n",
        "This takes both the \"context\" outputted from the bilstm ContextEncoderLayer, and the response that we had in the first place.\n",
        "\n",
        "For the context, its dimensions is <M, d_lstm> where M is the reduced number of utterences after convolution, and d_lstm is the number of hidden units times two because it is biredctional\n",
        "\n",
        "For the response, its dimension is <d_sen, d_lstm>\n",
        "\n",
        "The article specifies combining the context representation (o_{con}) and the response representation (o_{res}). `so we need to handle this concatination BEFORE entering this layer, this layer takes as an input the concatinated stuff`"
      ],
      "metadata": {
        "id": "DWLnfdgLEFFF"
      }
    },
    {
      "cell_type": "code",
      "source": [
        "class CNNLayer(nn.Module):\n",
        "    def __init__(self, input_channels, output_channels, kernel_sizes):\n",
        "        super(CNNLayer, self).__init__()\n",
        "\n",
        "\n",
        "        # Conv2D expects an input as follows: (N, C_in, H, W)\n",
        "        self.convs = nn.ModuleList([\n",
        "            nn.Conv2d(\n",
        "                in_channels=input_channels,\n",
        "                out_channels=output_channels,\n",
        "                kernel_size=kernel_size,\n",
        "                stride=1\n",
        "            ) for kernel_size in kernel_sizes\n",
        "        ])\n",
        "\n",
        "        self.maxpool = nn.AdaptiveMaxPool2d((1, 1))\n",
        "\n",
        "    def forward(self, combined_representation_batch):\n",
        "        # combined representation: concatination(response,context)\n",
        "\n",
        "        feature_maps = []\n",
        "\n",
        "        for conv in self.convs:\n",
        "\n",
        "            conv_output = torch.relu(conv(combined_representation_batch))\n",
        "\n",
        "\n",
        "            pooled_output = self.maxpool(conv_output)\n",
        "\n",
        "            feature_maps.append(pooled_output)\n",
        "\n",
        "        # Initialize an empty list to store flattened feature maps\n",
        "        flattened_maps = []\n",
        "\n",
        "        # Loop through the feature maps and flatten them\n",
        "        for feature_map in feature_maps:\n",
        "            # Get the batch size and number of features\n",
        "            batch_size = feature_map.size(0)  # Number of samples in the batch\n",
        "            num_features = feature_map.size(1)  # Number of features per sample\n",
        "\n",
        "            # Flatten\n",
        "            flattened_map = feature_map.view(batch_size, num_features)\n",
        "\n",
        "            # Append the flattened map to the list\n",
        "            flattened_maps.append(flattened_map)\n",
        "\n",
        "        # Concatenate all flattened feature maps along the feature dimension\n",
        "        # This combines features from all convolutional layers into one vector\n",
        "        unified_feature_vector = torch.cat(flattened_maps, dim=1)\n",
        "\n",
        "        # Return the final feature vector\n",
        "        return unified_feature_vector\n",
        "\n"
      ],
      "metadata": {
        "id": "Hx_S-8MJLb31"
      },
      "execution_count": 14,
      "outputs": []
    },
    {
      "cell_type": "markdown",
      "source": [
        "## Layer 5: Fully Connected Layer"
      ],
      "metadata": {
        "id": "u3iSeZYawbK_"
      }
    },
    {
      "cell_type": "code",
      "source": [
        "import torch.nn.init as init\n",
        "\n",
        "class FullyConnectedLayer(nn.Module):\n",
        "    def __init__(self, input_features):\n",
        "        super(FullyConnectedLayer, self).__init__()\n",
        "        # Fully connected layer\n",
        "        self.fc = nn.Linear(input_features, 1)  # Output size is 1 (binary classification)\n",
        "\n",
        "        # Explicit initialization\n",
        "        init.xavier_uniform_(self.fc.weight)  # Xavier initialization for weights\n",
        "        init.zeros_(self.fc.bias)             # Initialize bias to 0\n",
        "\n",
        "    def forward(self, x):\n",
        "        # Forward pass through the fully connected layer and sigmoid activation\n",
        "        x = self.fc(x) # No sigmoid here; use BCEWithLogitsLoss\n",
        "        return x\n"
      ],
      "metadata": {
        "id": "UNV3pg_Ewd3I"
      },
      "execution_count": 15,
      "outputs": []
    },
    {
      "cell_type": "markdown",
      "source": [
        "## Full Architecutre (All Layers Combined Together)"
      ],
      "metadata": {
        "id": "7NPWkJJH0u8E"
      }
    },
    {
      "cell_type": "code",
      "source": [
        "class HierarchicalBERT(nn.Module):\n",
        "    # Define class attributes (constants shared by all instances of the class)\n",
        "    GLOBAL_D_BERT = 768\n",
        "    GLOBAL_STRIDE = 1\n",
        "    GLOBAL_PADDING = 0\n",
        "    GLOBAL_K_ROW = 2\n",
        "    GLOBAL_K_COL = 2\n",
        "\n",
        "    def __init__(self, bert_model_name=\"bert-base-cased\", lstm_hidden_size=300, max_sentence_length=100,\n",
        "                 output_channels=128, kernel_sizes=[(2, 2), (2, 3), (2, 5)], num_classes=1):\n",
        "        super(HierarchicalBERT, self).__init__()\n",
        "\n",
        "        device = torch.device(\"cuda\" if torch.cuda.is_available() else \"cpu\")\n",
        "\n",
        "        self.sentence_encoder = SentenceEncodingLayer(\n",
        "            bert_model_name=bert_model_name,\n",
        "            lstm_hidden_size=lstm_hidden_size,\n",
        "        ).to(device)\n",
        "\n",
        "        self.context_summarizer = ContextSummarizationLayer(\n",
        "            d_bert=self.GLOBAL_D_BERT,\n",
        "            dsum=output_channels,\n",
        "            k_row=self.GLOBAL_K_ROW,\n",
        "            k_col=self.GLOBAL_K_COL\n",
        "        ).to(device)\n",
        "\n",
        "        self.context_encoder = ContextEncoderLayer(\n",
        "            size_of_input=(output_channels * (max_sentence_length - self.GLOBAL_K_ROW + 1)),\n",
        "            lstm_hidden_size=lstm_hidden_size\n",
        "        ).to(device)\n",
        "\n",
        "        self.cnn_layer = CNNLayer(\n",
        "            input_channels=1,\n",
        "            output_channels=output_channels,\n",
        "            kernel_sizes=kernel_sizes\n",
        "        ).to(device)\n",
        "\n",
        "        self.fc_layer = FullyConnectedLayer(\n",
        "            input_features=len(kernel_sizes) * output_channels\n",
        "        ).to(device)\n",
        "\n",
        "\n",
        "    def forward(self, context, response, p=0):\n",
        "        \"\"\"\n",
        "        Forward pass through the entire model.\n",
        "        Args:\n",
        "            context (List[str]): List of utterances (context).\n",
        "            response (str): Response to classify as sarcastic or not.\n",
        "        Returns:\n",
        "            Tensor: Probability of sarcasm for the response.\n",
        "        \"\"\"\n",
        "        if p ==1 :print(\"Received input\")\n",
        "        if p ==1 :print(f\"Number of utterences: {len(context)}\")\n",
        "        if p ==1 :print(f\"Response: {response}\")\n",
        "        # 1. Sentence Encoding\n",
        "        context_representation, response_representation = self.sentence_encoder(context, response)\n",
        "        if p ==1 :print(\"After SentenceEncodingLayer, Here is the input to the context Summarization Layer\")\n",
        "        if p ==1 :print(f\"Context Representation Shape: {context_representation.shape}\")\n",
        "        if p ==1 :print(f\"Response Representation Shape: {response_representation.shape}\")\n",
        "\n",
        "        # 2. Context Summarization\n",
        "        summarized_context = self.context_summarizer(context_representation)\n",
        "        if p ==1 :print(f\"Summarized Context Representation Shape: {summarized_context.shape}\")\n",
        "\n",
        "\n",
        "        # 3. Context Encoding\n",
        "        encoded_context = self.context_encoder(summarized_context)\n",
        "        if p ==1 :print(f\"Encoded Context Representation Shape: {encoded_context.shape}\")\n",
        "\n",
        "        # 4. Concatenate Context and Response\n",
        "        if p ==1 :print(\"Concatenating Context and Response\")\n",
        "        if p ==1 :print(f\"Context Representation Shape: {encoded_context.shape}\")\n",
        "        if p ==1 :print(f\"Response Representation Shape: {response_representation.shape}\")\n",
        "\n",
        "        combined_representation = torch.cat((encoded_context, response_representation), dim=1) # I changed this from dim 0 to dim 1 since both match except at dim 1\n",
        "        combined_representation = combined_representation.unsqueeze(1) # add channel dims\n",
        "        if p ==1 :print(f\"Combined Representation Shape: {combined_representation.shape}\")\n",
        "        # 5. CNN Layer\n",
        "        cnn_output = self.cnn_layer(combined_representation)\n",
        "        if p ==1 :print(f\"CNN Output Shape: {cnn_output.shape}\")\n",
        "\n",
        "        # 6. Fully Connected Layer\n",
        "        logits = self.fc_layer(cnn_output)\n",
        "        if p ==1: print(f\"Final Output: {logits}\")\n",
        "\n",
        "        if p ==1: print(\"================= \\n\")\n",
        "\n",
        "        return logits\n"
      ],
      "metadata": {
        "id": "Sj2e2Efr8RLL"
      },
      "execution_count": 16,
      "outputs": []
    },
    {
      "cell_type": "markdown",
      "source": [
        "# Training Loop"
      ],
      "metadata": {
        "id": "8PwEZdAd0q78"
      }
    },
    {
      "cell_type": "code",
      "source": [
        "def train_one_epoch(model, data_loader, optimizer, criterion, device):\n",
        "    model.train()\n",
        "    training_epoch_loss = 0\n",
        "    correct_training_predictions = 0\n",
        "    total_training_predictions = 0\n",
        "    progress_bar = tqdm(data_loader, leave=True, desc=\"Training Progress\")\n",
        "    for batch in progress_bar:\n",
        "        # Move batch data to the device\n",
        "        context = batch['context']\n",
        "        response = batch['response']\n",
        "        labels = batch['label'].unsqueeze(1).to(device).float()\n",
        "\n",
        "        optimizer.zero_grad()\n",
        "\n",
        "        # Forward pass\n",
        "        logits = model(context, response)  # Remove p=0\n",
        "        loss = criterion(logits, labels)\n",
        "        predictions = (torch.sigmoid(logits) > 0.5).long()\n",
        "\n",
        "        # Backward pass and optimizer step\n",
        "        loss.backward()\n",
        "        optimizer.step()\n",
        "\n",
        "        # Update metrics\n",
        "        training_epoch_loss += loss.item()\n",
        "        total_training_predictions += labels.size(0)\n",
        "        correct_training_predictions += (predictions == labels.long()).sum().item()\n",
        "        batch_accuracy = (predictions == labels.long()).sum().item() / labels.size(0)\n",
        "\n",
        "    epoch_loss = training_epoch_loss / len(data_loader)\n",
        "    epoch_accuracy = correct_training_predictions / total_training_predictions\n",
        "\n",
        "    return epoch_loss, epoch_accuracy\n",
        "\n",
        "\n",
        "def validation(model, val_loader, criterion, device):\n",
        "    \"\"\"\n",
        "    Validate the model on the validation dataset and return loss and accuracy.\n",
        "    \"\"\"\n",
        "    model.eval()  # Set model to evaluation mode\n",
        "    epoch_loss = 0\n",
        "    correct_predictions = 0\n",
        "    total_predictions = 0\n",
        "    progress_bar = tqdm(val_loader, leave=True, desc=\"Validation Progress\")\n",
        "    with torch.no_grad():\n",
        "        for batch in progress_bar:\n",
        "            # Move data to the device\n",
        "            context = batch['context']\n",
        "            response = batch['response']\n",
        "            labels = batch['label'].unsqueeze(1).to(device).float()\n",
        "\n",
        "            # Forward pass\n",
        "            logits = model(context, response)\n",
        "            loss = criterion(logits, labels)\n",
        "\n",
        "            # Compute predictions\n",
        "            predictions = (torch.sigmoid(logits) > 0.5).long()\n",
        "\n",
        "            # Update metrics\n",
        "            epoch_loss += loss.item()\n",
        "            total_predictions += labels.size(0)\n",
        "            correct_predictions += (predictions == labels.long()).sum().item()\n",
        "            #batch_accuracy = (predictions == labels.long()).sum().item() / labels.size(0)\n",
        "\n",
        "\n",
        "\n",
        "    # Calculate average loss and accuracy\n",
        "    avg_loss = epoch_loss / len(val_loader)\n",
        "    accuracy = correct_predictions / total_predictions\n",
        "\n",
        "    return avg_loss, accuracy\n"
      ],
      "metadata": {
        "id": "h5EpUU0SdviM"
      },
      "execution_count": 17,
      "outputs": []
    },
    {
      "cell_type": "markdown",
      "source": [
        "## Dataset and model initialization"
      ],
      "metadata": {
        "id": "Ff2ieLVsAzeJ"
      }
    },
    {
      "cell_type": "code",
      "source": [
        "tokenizer = BertTokenizer.from_pretrained(\"bert-base-cased\")\n",
        "device = torch.device(\"cuda\" if torch.cuda.is_available() else \"cpu\")\n",
        "\n",
        "\n",
        "reddit_training_set  = RedditDataset(REDDIT_TRAINING_PATH_DATAFRAME, device,0.8)\n",
        "reddit_training_data_loader = DataLoader(reddit_training_set, batch_size= 16, shuffle=True, collate_fn=custom_collate_fn, generator=torch.Generator(device=device))\n",
        "\n",
        "reddit_validation_set  = RedditDataset(REDDIT_VALIDATION_PATH_DATAFRAME, device,0.8)\n",
        "reddit_validation_data_loader = DataLoader(reddit_validation_set, batch_size=8, shuffle=False, collate_fn=custom_collate_fn, generator=torch.Generator(device=device))\n",
        "\n"
      ],
      "metadata": {
        "colab": {
          "base_uri": "https://localhost:8080/",
          "height": 180,
          "referenced_widgets": [
            "709f6517856a497a980ac5f95bbfc7b5",
            "ae34bd6f2cf64a3da77089aed1427757",
            "cd195aca416640edb1313708005e125d",
            "fc3895caefff4ab596b5a1c2fdf19e14",
            "df16427c2c974f3da2d46e5453194a36",
            "3c25566be85540529e85dfb4a10a27fd",
            "2ca7ca8e5d1b4b0fba425368a0063ae5",
            "80e5ea7101e54fe6846e1ac0cffb5f28",
            "31bf5712c8e146a5aca074aa05362c21",
            "e380e5a1f3af4b068f150f77f06cf9e7",
            "46a6bca21a5d451c9bd4128a29893896",
            "ce5b72cf887a408091d0c263bffca7c5",
            "a0fb5ecaf046491fbd8d9644abc16a69",
            "73a1240b2ed642a5a40215794ebe17e5",
            "6655fb687b1646f2abdbefb95ee721a3",
            "04f4c8aa00364ba9badbe77a84e2cad9",
            "77ea505d7e9d4caeada50cebd937fc7a",
            "63bfd88351324ead836d694f7767400c",
            "30b5fbe77e1f42caaf12f4c9a46929c4",
            "319887dcc09948ee8e3639582d4a374b",
            "808b75cdf8064fc5938bae23e2945729",
            "5f563d4ef3714010b3f7d51ebaf928c0",
            "30a6a82cb29b4b18b900834d1841b07b",
            "ee32c1153f3f42ed96725c6d5ffecf4c",
            "f959f097d68d439c9b982be73ebee42c",
            "a79e9fcc21ce45f49aad11010e692490",
            "8fe8a804f66f430e8771efb62d06e91e",
            "a294611bdab54c968fbdd97060a9f2bc",
            "69e8c2d8973b491485e8ce5cc39f7673",
            "5a747422ee1a42d39ce86f8832300f02",
            "858af40cfb9d45a4921c9dfd9366c549",
            "0fcc82b194ea4aabbb9559ccd20425b3",
            "52d0d09109334c4786c23f449b2e5352",
            "5e21a181bb2f4f67b605d5ee26c8bcf1",
            "317b3cc574fb4d00b75f613e4fe35bc2",
            "96ea04cc81ed47918e4521c4df0cac0f",
            "e557edf4066b46fca75c93eafdbd123a",
            "c153885d56cc4fe48116ed46198aba72",
            "7a5c46fd9800436990d7e8875f9b512b",
            "07ab9360598947f4ab33fb0bf3ccdcb2",
            "e2a1e9905f234d8b9e9100249ce66296",
            "1ae29ab1e4614353ba6f60807bc81dc6",
            "6f3d7ad84c5a4808932b6fef5b72877d",
            "9d8a3862810248afbb70ac809b9ab2e0"
          ]
        },
        "id": "ocjo4pIl3TgM",
        "outputId": "dadb6805-bc5e-4a08-c2cd-a9cd39c71a18"
      },
      "execution_count": 18,
      "outputs": [
        {
          "output_type": "display_data",
          "data": {
            "text/plain": [
              "tokenizer_config.json:   0%|          | 0.00/49.0 [00:00<?, ?B/s]"
            ],
            "application/vnd.jupyter.widget-view+json": {
              "version_major": 2,
              "version_minor": 0,
              "model_id": "709f6517856a497a980ac5f95bbfc7b5"
            }
          },
          "metadata": {}
        },
        {
          "output_type": "display_data",
          "data": {
            "text/plain": [
              "vocab.txt:   0%|          | 0.00/213k [00:00<?, ?B/s]"
            ],
            "application/vnd.jupyter.widget-view+json": {
              "version_major": 2,
              "version_minor": 0,
              "model_id": "ce5b72cf887a408091d0c263bffca7c5"
            }
          },
          "metadata": {}
        },
        {
          "output_type": "display_data",
          "data": {
            "text/plain": [
              "tokenizer.json:   0%|          | 0.00/436k [00:00<?, ?B/s]"
            ],
            "application/vnd.jupyter.widget-view+json": {
              "version_major": 2,
              "version_minor": 0,
              "model_id": "30a6a82cb29b4b18b900834d1841b07b"
            }
          },
          "metadata": {}
        },
        {
          "output_type": "display_data",
          "data": {
            "text/plain": [
              "config.json:   0%|          | 0.00/570 [00:00<?, ?B/s]"
            ],
            "application/vnd.jupyter.widget-view+json": {
              "version_major": 2,
              "version_minor": 0,
              "model_id": "5e21a181bb2f4f67b605d5ee26c8bcf1"
            }
          },
          "metadata": {}
        },
        {
          "output_type": "stream",
          "name": "stdout",
          "text": [
            "Recevied a csv file\n",
            "Recevied a csv file\n"
          ]
        }
      ]
    },
    {
      "cell_type": "markdown",
      "source": [
        "## Loss Function"
      ],
      "metadata": {
        "id": "n5hXK0sSAj_q"
      }
    },
    {
      "cell_type": "code",
      "source": [
        "criterion = nn.BCEWithLogitsLoss()"
      ],
      "metadata": {
        "id": "oM0o7BNJAnql"
      },
      "execution_count": 19,
      "outputs": []
    },
    {
      "cell_type": "markdown",
      "source": [
        "## Optimizer"
      ],
      "metadata": {
        "id": "qLDPl6mKApbD"
      }
    },
    {
      "cell_type": "code",
      "source": [
        "model = HierarchicalBERT().to(device)\n",
        "from transformers import AdamW\n",
        "\n",
        "optimizer = AdamW(model.parameters(), lr=2e-5, weight_decay=0.01)\n",
        "scheduler = optim.lr_scheduler.StepLR(optimizer, step_size=5, gamma=0.5)"
      ],
      "metadata": {
        "id": "daahJ8D1AuES",
        "colab": {
          "base_uri": "https://localhost:8080/",
          "height": 49,
          "referenced_widgets": [
            "04c2cec27af6416fbde6620a7e1f8ef0",
            "13b8925d4f1f437bbe5df3af0bb0250f",
            "960ab8e8fbed4a28a738c6c93b10b7aa",
            "b095b7d5cba54f17a24374fe398846e7",
            "dd109f2db66340499593f9507407141d",
            "1c40fceec0bb489a9aa0c3f272b5bb84",
            "d5136f2dba3c46009564cb347299e1ee",
            "4330aceaf17444199c684807f15992ec",
            "b6144dc836fd47cbacb65ed9fdda220e",
            "c39e327df9fe4c6e9e6fecb3136ef80a",
            "860da3c912694cbdbe5bafdcef26ad73"
          ]
        },
        "outputId": "fe94eeb0-227c-456c-f0fe-c7d62669b546"
      },
      "execution_count": 20,
      "outputs": [
        {
          "output_type": "display_data",
          "data": {
            "text/plain": [
              "model.safetensors:   0%|          | 0.00/436M [00:00<?, ?B/s]"
            ],
            "application/vnd.jupyter.widget-view+json": {
              "version_major": 2,
              "version_minor": 0,
              "model_id": "04c2cec27af6416fbde6620a7e1f8ef0"
            }
          },
          "metadata": {}
        }
      ]
    },
    {
      "cell_type": "code",
      "source": [
        "#for name, param in model.named_parameters():\n",
        "#    print(f\"Layer: {name} | Mean: {param.mean().item()} | Std: {param.std().item()}\")\n"
      ],
      "metadata": {
        "collapsed": true,
        "id": "Bbw8-TUM0JQc"
      },
      "execution_count": 21,
      "outputs": []
    },
    {
      "cell_type": "markdown",
      "source": [
        "## Training"
      ],
      "metadata": {
        "id": "-Fj22HJ6BAV1"
      }
    },
    {
      "cell_type": "code",
      "source": [
        "from tqdm import tqdm\n",
        "import torch\n",
        "from datetime import datetime\n",
        "#===================================\n",
        "now = datetime.now()\n",
        "formatted_time = now.strftime(\"%Y-%m-%d_%H-%M-%S\")\n",
        "\n",
        "\n",
        "MODEL_NAME = f\"best_model_{formatted_time}.pth\"\n",
        "SAVE_MODEL_PATH = f\"/content/drive/MyDrive/FALL2024/comp550/final_project/models/{MODEL_NAME}\"  #\n",
        "#=================================================\n",
        "\n",
        "# Parameters for early stopping\n",
        "patience = 5  # Number of epochs to wait for improvement\n",
        "min_delta = 0.001  # Minimum improvement to reset patience\n",
        "best_val_loss = float('inf')\n",
        "patience_counter = 0\n",
        "\n",
        "# For storing metrics\n",
        "epoch_train_loss = []\n",
        "epoch_train_accuracy = []\n",
        "epoch_val_loss = []\n",
        "epoch_val_accuracy = []\n",
        "\n",
        "# Paths to save models\n",
        "best_model_path = SAVE_MODEL_PATH\n",
        "last_model_path = SAVE_MODEL_PATH\n",
        "\n",
        "# Training loop with early stopping and keyboard interrupt handling\n",
        "num_epochs = 25\n",
        "progress_bar = tqdm(range(num_epochs), desc=\"Epochs\")\n",
        "\n",
        "try:\n",
        "    for epoch in progress_bar:\n",
        "        # Training\n",
        "        train_loss, train_accuracy = train_one_epoch(\n",
        "            model=model,\n",
        "            data_loader=reddit_training_data_loader,\n",
        "            optimizer=optimizer,\n",
        "            criterion=criterion,\n",
        "            device=device\n",
        "        )\n",
        "        scheduler.step()\n",
        "        epoch_train_loss.append(train_loss)\n",
        "        epoch_train_accuracy.append(train_accuracy)\n",
        "\n",
        "        # Validation\n",
        "        val_loss, val_accuracy = validation(\n",
        "            model=model,\n",
        "            val_loader=reddit_validation_data_loader,\n",
        "            criterion=criterion,\n",
        "            device=device\n",
        "        )\n",
        "        epoch_val_loss.append(val_loss)\n",
        "        epoch_val_accuracy.append(val_accuracy)\n",
        "\n",
        "        print(f\"[Epoch {epoch + 1}]\")\n",
        "        print(f\"  [Training] Loss: {train_loss:.4f}, Accuracy: {train_accuracy * 100:.2f}%\")\n",
        "        print(f\"  [Validation] Loss: {val_loss:.4f}, Accuracy: {val_accuracy * 100:.2f}%\")\n",
        "\n",
        "        # Check for improvement in validation loss\n",
        "        if val_loss < best_val_loss - min_delta:\n",
        "            best_val_loss = val_loss\n",
        "            patience_counter = 0\n",
        "            # Save the best model\n",
        "            torch.save(model.state_dict(), best_model_path)\n",
        "            print(f\"  [INFO] Validation loss improved. Model saved to {best_model_path}.\")\n",
        "        else:\n",
        "            patience_counter += 1\n",
        "            print(f\"  [INFO] No improvement in validation loss. Patience counter: {patience_counter}/{patience}\")\n",
        "\n",
        "        # Early stopping condition\n",
        "        if patience_counter >= patience:\n",
        "            print(f\"  [INFO] Early stopping triggered at epoch {epoch + 1}.\")\n",
        "            break\n",
        "\n",
        "except KeyboardInterrupt:\n",
        "    print(\"\\n[INFO] Training interrupted by user.\")\n",
        "    torch.save(model.state_dict(), last_model_path)\n",
        "    print(f\"[INFO] Model saved to {last_model_path} on interrupt.\")\n",
        "    disconnect_runtime()\n",
        "\n",
        "print(\"Training completed.\")\n"
      ],
      "metadata": {
        "id": "jSIrnRaXDgEd",
        "colab": {
          "base_uri": "https://localhost:8080/",
          "height": 1000
        },
        "outputId": "00dd0365-fbe2-4def-d579-09134642bddf",
        "collapsed": true
      },
      "execution_count": 22,
      "outputs": [
        {
          "output_type": "stream",
          "name": "stderr",
          "text": [
            "Epochs:   0%|          | 0/25 [00:00<?, ?it/s]\n",
            "Training Progress:   0%|          | 0/5 [00:00<?, ?it/s]\u001b[A\n",
            "Training Progress:  20%|██        | 1/5 [00:07<00:30,  7.66s/it]\u001b[A\n",
            "Training Progress:  40%|████      | 2/5 [00:12<00:17,  5.84s/it]\u001b[A\n",
            "Training Progress:  60%|██████    | 3/5 [00:16<00:10,  5.29s/it]\u001b[A\n",
            "Training Progress:  80%|████████  | 4/5 [00:21<00:05,  5.02s/it]\u001b[A\n",
            "Training Progress: 100%|██████████| 5/5 [00:26<00:00,  5.22s/it]\n",
            "\n",
            "Validation Progress:   0%|          | 0/10 [00:00<?, ?it/s]\u001b[A\n",
            "Validation Progress:  10%|█         | 1/10 [00:00<00:06,  1.37it/s]\u001b[A\n",
            "Validation Progress:  20%|██        | 2/10 [00:01<00:05,  1.40it/s]\u001b[A\n",
            "Validation Progress:  30%|███       | 3/10 [00:02<00:05,  1.40it/s]\u001b[A\n",
            "Validation Progress:  40%|████      | 4/10 [00:02<00:04,  1.40it/s]\u001b[A\n",
            "Validation Progress:  50%|█████     | 5/10 [00:03<00:03,  1.40it/s]\u001b[A\n",
            "Validation Progress:  60%|██████    | 6/10 [00:04<00:02,  1.39it/s]\u001b[A\n",
            "Validation Progress:  70%|███████   | 7/10 [00:05<00:02,  1.40it/s]\u001b[A\n",
            "Validation Progress:  80%|████████  | 8/10 [00:05<00:01,  1.40it/s]\u001b[A\n",
            "Validation Progress:  90%|█████████ | 9/10 [00:06<00:00,  1.41it/s]\u001b[A\n",
            "Validation Progress: 100%|██████████| 10/10 [00:07<00:00,  1.40it/s]\n"
          ]
        },
        {
          "output_type": "stream",
          "name": "stdout",
          "text": [
            "[Epoch 1]\n",
            "  [Training] Loss: 0.7300, Accuracy: 50.00%\n",
            "  [Validation] Loss: 0.7299, Accuracy: 48.75%\n"
          ]
        },
        {
          "output_type": "stream",
          "name": "stderr",
          "text": [
            "\rEpochs:   4%|▍         | 1/25 [00:35<14:23, 35.99s/it]"
          ]
        },
        {
          "output_type": "stream",
          "name": "stdout",
          "text": [
            "  [INFO] Validation loss improved. Model saved to /content/drive/MyDrive/FALL2024/comp550/final_project/models/best_model_2024-12-05_06-17-18.pth.\n"
          ]
        },
        {
          "output_type": "stream",
          "name": "stderr",
          "text": [
            "\n",
            "Training Progress:   0%|          | 0/5 [00:00<?, ?it/s]\u001b[A\n",
            "Training Progress:  20%|██        | 1/5 [00:04<00:18,  4.67s/it]\u001b[A\n",
            "Training Progress:  40%|████      | 2/5 [00:09<00:13,  4.62s/it]\u001b[A\n",
            "Training Progress:  60%|██████    | 3/5 [00:14<00:09,  4.76s/it]\u001b[A\n",
            "Training Progress:  80%|████████  | 4/5 [00:18<00:04,  4.77s/it]\u001b[A\n",
            "Training Progress: 100%|██████████| 5/5 [00:23<00:00,  4.77s/it]\n",
            "\n",
            "Validation Progress:   0%|          | 0/10 [00:00<?, ?it/s]\u001b[A\n",
            "Validation Progress:  10%|█         | 1/10 [00:00<00:06,  1.39it/s]\u001b[A\n",
            "Validation Progress:  20%|██        | 2/10 [00:01<00:05,  1.37it/s]\u001b[A\n",
            "Validation Progress:  30%|███       | 3/10 [00:02<00:05,  1.33it/s]\u001b[A\n",
            "Validation Progress:  40%|████      | 4/10 [00:02<00:04,  1.35it/s]\u001b[A\n",
            "Validation Progress:  50%|█████     | 5/10 [00:03<00:03,  1.37it/s]\u001b[A\n",
            "Validation Progress:  60%|██████    | 6/10 [00:04<00:02,  1.37it/s]\u001b[A\n",
            "Validation Progress:  70%|███████   | 7/10 [00:05<00:02,  1.37it/s]\u001b[A\n",
            "Validation Progress:  80%|████████  | 8/10 [00:05<00:01,  1.37it/s]\u001b[A\n",
            "Validation Progress:  90%|█████████ | 9/10 [00:06<00:00,  1.38it/s]\u001b[A\n",
            "Validation Progress: 100%|██████████| 10/10 [00:07<00:00,  1.37it/s]\n"
          ]
        },
        {
          "output_type": "stream",
          "name": "stdout",
          "text": [
            "[Epoch 2]\n",
            "  [Training] Loss: 0.7089, Accuracy: 50.00%\n",
            "  [Validation] Loss: 0.7125, Accuracy: 48.75%\n"
          ]
        },
        {
          "output_type": "stream",
          "name": "stderr",
          "text": [
            "\rEpochs:   8%|▊         | 2/25 [01:09<13:18, 34.73s/it]"
          ]
        },
        {
          "output_type": "stream",
          "name": "stdout",
          "text": [
            "  [INFO] Validation loss improved. Model saved to /content/drive/MyDrive/FALL2024/comp550/final_project/models/best_model_2024-12-05_06-17-18.pth.\n"
          ]
        },
        {
          "output_type": "stream",
          "name": "stderr",
          "text": [
            "\n",
            "Training Progress:   0%|          | 0/5 [00:00<?, ?it/s]\u001b[A\n",
            "Training Progress:  20%|██        | 1/5 [00:04<00:18,  4.62s/it]\u001b[A\n",
            "Training Progress:  40%|████      | 2/5 [00:09<00:14,  4.79s/it]\u001b[A\n",
            "Training Progress:  60%|██████    | 3/5 [00:14<00:09,  4.77s/it]\u001b[A\n",
            "Training Progress:  80%|████████  | 4/5 [00:19<00:04,  4.86s/it]\u001b[A\n",
            "Training Progress: 100%|██████████| 5/5 [00:24<00:00,  4.87s/it]\n",
            "\n",
            "Validation Progress:   0%|          | 0/10 [00:00<?, ?it/s]\u001b[A\n",
            "Validation Progress:  10%|█         | 1/10 [00:00<00:06,  1.36it/s]\u001b[A\n",
            "Validation Progress:  20%|██        | 2/10 [00:01<00:05,  1.36it/s]\u001b[A\n",
            "Validation Progress:  30%|███       | 3/10 [00:02<00:05,  1.37it/s]\u001b[A\n",
            "Validation Progress:  40%|████      | 4/10 [00:02<00:04,  1.35it/s]\u001b[A\n",
            "Validation Progress:  50%|█████     | 5/10 [00:03<00:03,  1.35it/s]\u001b[A\n",
            "Validation Progress:  60%|██████    | 6/10 [00:04<00:02,  1.34it/s]\u001b[A\n",
            "Validation Progress:  70%|███████   | 7/10 [00:05<00:02,  1.35it/s]\u001b[A\n",
            "Validation Progress:  80%|████████  | 8/10 [00:05<00:01,  1.36it/s]\u001b[A\n",
            "Validation Progress:  90%|█████████ | 9/10 [00:06<00:00,  1.36it/s]\u001b[A\n",
            "Validation Progress: 100%|██████████| 10/10 [00:07<00:00,  1.36it/s]\n"
          ]
        },
        {
          "output_type": "stream",
          "name": "stdout",
          "text": [
            "[Epoch 3]\n",
            "  [Training] Loss: 0.7000, Accuracy: 50.00%\n",
            "  [Validation] Loss: 0.7097, Accuracy: 48.75%\n"
          ]
        },
        {
          "output_type": "stream",
          "name": "stderr",
          "text": [
            "\rEpochs:  12%|█▏        | 3/25 [01:44<12:40, 34.57s/it]"
          ]
        },
        {
          "output_type": "stream",
          "name": "stdout",
          "text": [
            "  [INFO] Validation loss improved. Model saved to /content/drive/MyDrive/FALL2024/comp550/final_project/models/best_model_2024-12-05_06-17-18.pth.\n"
          ]
        },
        {
          "output_type": "stream",
          "name": "stderr",
          "text": [
            "\n",
            "Training Progress:   0%|          | 0/5 [00:00<?, ?it/s]\u001b[A\n",
            "Training Progress:  20%|██        | 1/5 [00:04<00:18,  4.66s/it]\u001b[A\n",
            "Training Progress:  40%|████      | 2/5 [00:09<00:13,  4.67s/it]\u001b[A\n",
            "Training Progress:  60%|██████    | 3/5 [00:14<00:09,  4.71s/it]\u001b[A\n",
            "Training Progress:  80%|████████  | 4/5 [00:18<00:04,  4.75s/it]\u001b[A\n",
            "Training Progress: 100%|██████████| 5/5 [00:23<00:00,  4.77s/it]\n",
            "\n",
            "Validation Progress:   0%|          | 0/10 [00:00<?, ?it/s]\u001b[A\n",
            "Validation Progress:  10%|█         | 1/10 [00:00<00:06,  1.35it/s]\u001b[A\n",
            "Validation Progress:  20%|██        | 2/10 [00:01<00:05,  1.35it/s]\u001b[A\n",
            "Validation Progress:  30%|███       | 3/10 [00:02<00:05,  1.36it/s]\u001b[A\n",
            "Validation Progress:  40%|████      | 4/10 [00:02<00:04,  1.35it/s]\u001b[A\n",
            "Validation Progress:  50%|█████     | 5/10 [00:03<00:03,  1.35it/s]\u001b[A\n",
            "Validation Progress:  60%|██████    | 6/10 [00:04<00:02,  1.35it/s]\u001b[A\n",
            "Validation Progress:  70%|███████   | 7/10 [00:05<00:02,  1.35it/s]\u001b[A\n",
            "Validation Progress:  80%|████████  | 8/10 [00:05<00:01,  1.35it/s]\u001b[A\n",
            "Validation Progress:  90%|█████████ | 9/10 [00:06<00:00,  1.35it/s]\u001b[A\n",
            "Validation Progress: 100%|██████████| 10/10 [00:07<00:00,  1.35it/s]\n"
          ]
        },
        {
          "output_type": "stream",
          "name": "stdout",
          "text": [
            "[Epoch 4]\n",
            "  [Training] Loss: 0.6939, Accuracy: 50.00%\n",
            "  [Validation] Loss: 0.7031, Accuracy: 48.75%\n"
          ]
        },
        {
          "output_type": "stream",
          "name": "stderr",
          "text": [
            "\rEpochs:  16%|█▌        | 4/25 [02:20<12:16, 35.07s/it]"
          ]
        },
        {
          "output_type": "stream",
          "name": "stdout",
          "text": [
            "  [INFO] Validation loss improved. Model saved to /content/drive/MyDrive/FALL2024/comp550/final_project/models/best_model_2024-12-05_06-17-18.pth.\n"
          ]
        },
        {
          "output_type": "stream",
          "name": "stderr",
          "text": [
            "\n",
            "Training Progress:   0%|          | 0/5 [00:00<?, ?it/s]\u001b[A\n",
            "Training Progress:  20%|██        | 1/5 [00:04<00:18,  4.72s/it]\u001b[A\n",
            "Training Progress:  40%|████      | 2/5 [00:09<00:14,  4.72s/it]\u001b[A\n",
            "Training Progress:  60%|██████    | 3/5 [00:14<00:09,  4.77s/it]\u001b[A\n",
            "Training Progress:  80%|████████  | 4/5 [00:19<00:04,  4.82s/it]\u001b[A\n",
            "Training Progress: 100%|██████████| 5/5 [00:24<00:00,  4.86s/it]\n",
            "\n",
            "Validation Progress:   0%|          | 0/10 [00:00<?, ?it/s]\u001b[A\n",
            "Validation Progress:  10%|█         | 1/10 [00:00<00:06,  1.34it/s]\u001b[A\n",
            "Validation Progress:  20%|██        | 2/10 [00:01<00:05,  1.34it/s]\u001b[A\n",
            "Validation Progress:  30%|███       | 3/10 [00:02<00:05,  1.34it/s]\u001b[A\n",
            "Validation Progress:  40%|████      | 4/10 [00:02<00:04,  1.34it/s]\u001b[A\n",
            "Validation Progress:  50%|█████     | 5/10 [00:03<00:03,  1.34it/s]\u001b[A\n",
            "Validation Progress:  60%|██████    | 6/10 [00:04<00:02,  1.34it/s]\u001b[A\n",
            "Validation Progress:  70%|███████   | 7/10 [00:05<00:02,  1.34it/s]\u001b[A\n",
            "Validation Progress:  80%|████████  | 8/10 [00:05<00:01,  1.34it/s]\u001b[A\n",
            "Validation Progress:  90%|█████████ | 9/10 [00:06<00:00,  1.34it/s]\u001b[A\n",
            "Validation Progress: 100%|██████████| 10/10 [00:07<00:00,  1.34it/s]\n"
          ]
        },
        {
          "output_type": "stream",
          "name": "stdout",
          "text": [
            "[Epoch 5]\n",
            "  [Training] Loss: 0.6808, Accuracy: 50.00%\n",
            "  [Validation] Loss: 0.7013, Accuracy: 48.75%\n"
          ]
        },
        {
          "output_type": "stream",
          "name": "stderr",
          "text": [
            "\rEpochs:  20%|██        | 5/25 [02:54<11:36, 34.85s/it]"
          ]
        },
        {
          "output_type": "stream",
          "name": "stdout",
          "text": [
            "  [INFO] Validation loss improved. Model saved to /content/drive/MyDrive/FALL2024/comp550/final_project/models/best_model_2024-12-05_06-17-18.pth.\n"
          ]
        },
        {
          "output_type": "stream",
          "name": "stderr",
          "text": [
            "\n",
            "Training Progress:   0%|          | 0/5 [00:00<?, ?it/s]\u001b[A\n",
            "Training Progress:  20%|██        | 1/5 [00:04<00:18,  4.72s/it]\u001b[A\n",
            "Training Progress:  40%|████      | 2/5 [00:09<00:14,  4.81s/it]\u001b[A\n",
            "Training Progress:  60%|██████    | 3/5 [00:14<00:09,  4.95s/it]\u001b[A\n",
            "Training Progress:  80%|████████  | 4/5 [00:19<00:04,  4.89s/it]\u001b[A\n",
            "Training Progress: 100%|██████████| 5/5 [00:24<00:00,  4.86s/it]\n",
            "\n",
            "Validation Progress:   0%|          | 0/10 [00:00<?, ?it/s]\u001b[A\n",
            "Validation Progress:  10%|█         | 1/10 [00:00<00:06,  1.34it/s]\u001b[A\n",
            "Validation Progress:  20%|██        | 2/10 [00:01<00:05,  1.33it/s]\u001b[A\n",
            "Validation Progress:  30%|███       | 3/10 [00:02<00:05,  1.33it/s]\u001b[A\n",
            "Validation Progress:  40%|████      | 4/10 [00:03<00:04,  1.33it/s]\u001b[A\n",
            "Validation Progress:  50%|█████     | 5/10 [00:03<00:03,  1.33it/s]\u001b[A\n",
            "Validation Progress:  60%|██████    | 6/10 [00:04<00:03,  1.33it/s]\u001b[A\n",
            "Validation Progress:  70%|███████   | 7/10 [00:05<00:02,  1.33it/s]\u001b[A\n",
            "Validation Progress:  80%|████████  | 8/10 [00:06<00:01,  1.33it/s]\u001b[A\n",
            "Validation Progress:  90%|█████████ | 9/10 [00:06<00:00,  1.34it/s]\u001b[A\n",
            "Validation Progress: 100%|██████████| 10/10 [00:07<00:00,  1.33it/s]\n",
            "Epochs:  24%|██▍       | 6/25 [03:26<10:43, 33.85s/it]"
          ]
        },
        {
          "output_type": "stream",
          "name": "stdout",
          "text": [
            "[Epoch 6]\n",
            "  [Training] Loss: 0.6697, Accuracy: 52.50%\n",
            "  [Validation] Loss: 0.7036, Accuracy: 48.75%\n",
            "  [INFO] No improvement in validation loss. Patience counter: 1/5\n"
          ]
        },
        {
          "output_type": "stream",
          "name": "stderr",
          "text": [
            "\n",
            "Training Progress:   0%|          | 0/5 [00:00<?, ?it/s]\u001b[A\n",
            "Training Progress:  20%|██        | 1/5 [00:04<00:19,  4.77s/it]\u001b[A\n",
            "Training Progress:  40%|████      | 2/5 [00:09<00:14,  4.74s/it]\u001b[A\n",
            "Training Progress:  60%|██████    | 3/5 [00:14<00:09,  4.73s/it]\u001b[A\n",
            "Training Progress:  80%|████████  | 4/5 [00:18<00:04,  4.73s/it]\u001b[A\n",
            "Training Progress: 100%|██████████| 5/5 [00:23<00:00,  4.74s/it]\n",
            "\n",
            "Validation Progress:   0%|          | 0/10 [00:00<?, ?it/s]\u001b[A\n",
            "Validation Progress:  10%|█         | 1/10 [00:00<00:06,  1.33it/s]\u001b[A\n",
            "Validation Progress:  20%|██        | 2/10 [00:01<00:06,  1.30it/s]\u001b[A\n",
            "Validation Progress:  30%|███       | 3/10 [00:02<00:05,  1.30it/s]\u001b[A\n",
            "Validation Progress:  40%|████      | 4/10 [00:03<00:04,  1.30it/s]\u001b[A\n",
            "Validation Progress:  50%|█████     | 5/10 [00:03<00:03,  1.30it/s]\u001b[A\n",
            "Validation Progress:  60%|██████    | 6/10 [00:04<00:03,  1.31it/s]\u001b[A\n",
            "Validation Progress:  70%|███████   | 7/10 [00:05<00:02,  1.31it/s]\u001b[A\n",
            "Validation Progress:  80%|████████  | 8/10 [00:06<00:01,  1.31it/s]\u001b[A\n",
            "Validation Progress:  90%|█████████ | 9/10 [00:06<00:00,  1.31it/s]\u001b[A\n",
            "Validation Progress: 100%|██████████| 10/10 [00:07<00:00,  1.31it/s]\n"
          ]
        },
        {
          "output_type": "stream",
          "name": "stdout",
          "text": [
            "[Epoch 7]\n",
            "  [Training] Loss: 0.6599, Accuracy: 57.50%\n",
            "  [Validation] Loss: 0.6972, Accuracy: 48.75%\n"
          ]
        },
        {
          "output_type": "stream",
          "name": "stderr",
          "text": [
            "\rEpochs:  28%|██▊       | 7/25 [04:00<10:09, 33.88s/it]"
          ]
        },
        {
          "output_type": "stream",
          "name": "stdout",
          "text": [
            "  [INFO] Validation loss improved. Model saved to /content/drive/MyDrive/FALL2024/comp550/final_project/models/best_model_2024-12-05_06-17-18.pth.\n"
          ]
        },
        {
          "output_type": "stream",
          "name": "stderr",
          "text": [
            "\n",
            "Training Progress:   0%|          | 0/5 [00:00<?, ?it/s]\u001b[A\n",
            "Training Progress:  20%|██        | 1/5 [00:04<00:19,  4.82s/it]\u001b[A\n",
            "Training Progress:  40%|████      | 2/5 [00:09<00:14,  4.78s/it]\u001b[A\n",
            "Training Progress:  60%|██████    | 3/5 [00:14<00:10,  5.01s/it]\u001b[A\n",
            "Training Progress:  80%|████████  | 4/5 [00:20<00:05,  5.17s/it]\u001b[A\n",
            "Training Progress: 100%|██████████| 5/5 [00:25<00:00,  5.11s/it]\n",
            "\n",
            "Validation Progress:   0%|          | 0/10 [00:00<?, ?it/s]\u001b[A\n",
            "Validation Progress:  10%|█         | 1/10 [00:00<00:06,  1.32it/s]\u001b[A\n",
            "Validation Progress:  20%|██        | 2/10 [00:01<00:06,  1.32it/s]\u001b[A\n",
            "Validation Progress:  30%|███       | 3/10 [00:02<00:05,  1.32it/s]\u001b[A\n",
            "Validation Progress:  40%|████      | 4/10 [00:03<00:04,  1.31it/s]\u001b[A\n",
            "Validation Progress:  50%|█████     | 5/10 [00:03<00:03,  1.32it/s]\u001b[A\n",
            "Validation Progress:  60%|██████    | 6/10 [00:04<00:03,  1.32it/s]\u001b[A\n",
            "Validation Progress:  70%|███████   | 7/10 [00:05<00:02,  1.32it/s]\u001b[A\n",
            "Validation Progress:  80%|████████  | 8/10 [00:06<00:01,  1.32it/s]\u001b[A\n",
            "Validation Progress:  90%|█████████ | 9/10 [00:06<00:00,  1.32it/s]\u001b[A\n",
            "Validation Progress: 100%|██████████| 10/10 [00:07<00:00,  1.32it/s]\n",
            "Epochs:  32%|███▏      | 8/25 [04:33<09:32, 33.67s/it]"
          ]
        },
        {
          "output_type": "stream",
          "name": "stdout",
          "text": [
            "[Epoch 8]\n",
            "  [Training] Loss: 0.6565, Accuracy: 58.75%\n",
            "  [Validation] Loss: 0.6969, Accuracy: 48.75%\n",
            "  [INFO] No improvement in validation loss. Patience counter: 1/5\n"
          ]
        },
        {
          "output_type": "stream",
          "name": "stderr",
          "text": [
            "\n",
            "Training Progress:   0%|          | 0/5 [00:00<?, ?it/s]\u001b[A\n",
            "Training Progress:  20%|██        | 1/5 [00:04<00:18,  4.69s/it]\u001b[A\n",
            "Training Progress:  40%|████      | 2/5 [00:11<00:16,  5.55s/it]\n",
            "Epochs:  32%|███▏      | 8/25 [04:44<10:04, 35.59s/it]\n"
          ]
        },
        {
          "output_type": "stream",
          "name": "stdout",
          "text": [
            "\n",
            "[INFO] Training interrupted by user.\n",
            "[INFO] Model saved to /content/drive/MyDrive/FALL2024/comp550/final_project/models/best_model_2024-12-05_06-17-18.pth on interrupt.\n",
            "Disconnecting the runtime...\n",
            "Training completed.\n"
          ]
        }
      ]
    },
    {
      "cell_type": "code",
      "source": [
        "# Plot training loss and training accuracy\n",
        "import matplotlib.pyplot as plt\n",
        "\n",
        "# Plotting loss\n",
        "plt.figure(figsize=(10, 5))\n",
        "plt.plot(num_epochs, epoch_train_loss, label=\"Training Loss\", marker='o')\n",
        "plt.plot(num_epochs, epoch_val_loss, label=\"Validation Loss\", marker='o')\n",
        "plt.title(\"Training and Validation Loss\")\n",
        "plt.xlabel(\"Epochs\")\n",
        "plt.ylabel(\"Loss\")\n",
        "plt.legend()\n",
        "plt.grid()\n",
        "plt.show()\n",
        "\n",
        "# Plotting accuracy\n",
        "plt.figure(figsize=(10, 5))\n",
        "plt.plot(num_epochs, epoch_train_accuracy, label=\"Training Accuracy\", marker='o')\n",
        "plt.plot(num_epochs, epoch_val_accuracy, label=\"Validation Accuracy\", marker='o')\n",
        "plt.title(\"Training and Validation Accuracy\")\n",
        "plt.xlabel(\"Epochs\")\n",
        "plt.ylabel(\"Accuracy (%)\")\n",
        "plt.legend()\n",
        "plt.grid()\n",
        "plt.show()"
      ],
      "metadata": {
        "id": "yYSSd394KI8t"
      },
      "execution_count": null,
      "outputs": []
    },
    {
      "cell_type": "markdown",
      "source": [
        "# Testing"
      ],
      "metadata": {
        "id": "4X8I7W3jahFR"
      }
    },
    {
      "cell_type": "code",
      "source": [
        "try:\n",
        "    model = HierarchicalBERT()\n",
        "    # Load the saved model weights\n",
        "    model.load_state_dict(torch.load(SAVE_MODEL_PATH))\n",
        "\n",
        "    # Move the model to the appropriate device (e.g., GPU if available)\n",
        "    model.to(device)\n",
        "except:\n",
        "    disconnect_runtime()"
      ],
      "metadata": {
        "id": "SUb9Y33zUU7m"
      },
      "execution_count": null,
      "outputs": []
    },
    {
      "cell_type": "code",
      "source": [
        "def test_model(model, test_loader, device):\n",
        "    \"\"\"\n",
        "    Test the model on the test dataset and return the loss and accuracy.\n",
        "    \"\"\"\n",
        "    model.eval()  # Set model to evaluation mode\n",
        "    epoch_loss = 0\n",
        "    correct_predictions = 0\n",
        "    total_predictions = 0\n",
        "\n",
        "    with torch.no_grad():  # Disable gradient calculations for testing\n",
        "        for batch in tqdm(test_loader, desc=\"Testing Progress\"):\n",
        "            # Move data to the device\n",
        "            context = batch['context']\n",
        "            response = batch['response']\n",
        "            labels = batch['label'].unsqueeze(1).to(device).float()\n",
        "\n",
        "            # Forward pass\n",
        "            logits = model(context, response)\n",
        "            loss = criterion(logits, labels)\n",
        "\n",
        "            # Compute predictions\n",
        "            predictions = (torch.sigmoid(logits) > 0.5).long()\n",
        "\n",
        "            # Update metrics\n",
        "            epoch_loss += loss.item()\n",
        "            total_predictions += labels.size(0)\n",
        "            correct_predictions += (predictions == labels.long()).sum().item()\n",
        "\n",
        "    # Calculate average loss and accuracy\n",
        "    avg_loss = epoch_loss / len(test_loader)\n",
        "    accuracy = correct_predictions / total_predictions\n",
        "\n",
        "    return avg_loss, accuracy\n"
      ],
      "metadata": {
        "id": "jroAJDb4a5Go"
      },
      "execution_count": null,
      "outputs": []
    },
    {
      "cell_type": "code",
      "source": [
        "# Test the model\n",
        "try:\n",
        "    reddit_test_set  = RedditDataset(REDDIT_TESTING_PATH_DATAFRAME, device,0.8)\n",
        "    reddit_test_data_loader = DataLoader(reddit_test_set, batch_size=8, shuffle=False, collate_fn=custom_collate_fn, generator=torch.Generator(device=device))\n",
        "    test_loss, test_accuracy = test_model(model, test_loader=reddit_test_data_loader, device=device)\n",
        "\n",
        "    print(f\"[Test] Loss: {test_loss:.4f}, Accuracy: {test_accuracy * 100:.2f}%\")\n",
        "except:\n",
        "    disconnect_runtime()\n"
      ],
      "metadata": {
        "id": "k6NQx3u3bDZk"
      },
      "execution_count": null,
      "outputs": []
    },
    {
      "cell_type": "code",
      "source": [
        "disconnect_runtime()"
      ],
      "metadata": {
        "id": "i9eu-c8CcuKM"
      },
      "execution_count": null,
      "outputs": []
    }
  ]
}